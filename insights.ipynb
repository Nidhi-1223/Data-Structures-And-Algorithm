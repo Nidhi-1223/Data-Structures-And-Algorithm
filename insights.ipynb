{
 "cells": [
  {
   "cell_type": "markdown",
   "metadata": {},
   "source": [
    "## Reverse a string using ```reversed()```\n",
    "Explanation : \n",
    "\n",
    "Reversing Strings With .join() and reversed()\n",
    "The most Pythonic approach to reversing strings is to use reversed() along with str.join(). If you pass a string to reversed(), you get an iterator that yields characters in reverse order : \n",
    "\n",
    "```\n",
    ">>> greeting = reversed(\"Hello, World!\")\n",
    "\n",
    ">>> next(greeting)\n",
    "'!'\n",
    ">>> next(greeting)\n",
    "'d'\n",
    ">>> next(greeting)\n",
    "'l'\n",
    "\n",
    "```\n",
    "\n",
    "When you call next() with greeting as an argument, you get each character from the right end of the original string.\n",
    "\n",
    "An important point to note about reversed() is that the resulting iterator yields characters directly from the original string. In other words, it doesn’t create a new reversed string but reads characters backward from the existing one. This behavior is fairly efficient in terms of memory consumption and can be a fundamental win in some contexts and situations, such as iteration.\n",
    "\n",
    "You can use the iterator that you get from calling reversed() directly as an argument to .join():\n",
    "\n",
    "```\n",
    ">>> \"\".join(reversed(\"Hello, World!\"))\n",
    "'!dlroW ,olleH'\n",
    "```\n",
    "[link](https://realpython.com/reverse-string-python/#reversing-strings-with-join-and-reversed)"
   ]
  },
  {
   "cell_type": "code",
   "execution_count": 1,
   "metadata": {},
   "outputs": [
    {
     "data": {
      "text/plain": [
       "'gfedcba'"
      ]
     },
     "execution_count": 1,
     "metadata": {},
     "output_type": "execute_result"
    }
   ],
   "source": [
    "s = 'abcdefg'\n",
    "''.join(reversed(s))"
   ]
  }
 ],
 "metadata": {
  "kernelspec": {
   "display_name": "Python 3",
   "language": "python",
   "name": "python3"
  },
  "language_info": {
   "codemirror_mode": {
    "name": "ipython",
    "version": 3
   },
   "file_extension": ".py",
   "mimetype": "text/x-python",
   "name": "python",
   "nbconvert_exporter": "python",
   "pygments_lexer": "ipython3",
   "version": "3.9.5"
  },
  "orig_nbformat": 4
 },
 "nbformat": 4,
 "nbformat_minor": 2
}
