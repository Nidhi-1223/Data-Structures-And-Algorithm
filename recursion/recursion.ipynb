{
 "cells": [
  {
   "cell_type": "markdown",
   "metadata": {},
   "source": [
    "# Recursion\n",
    "It is a way of solving a problem by having a function calling itself\n",
    "* Performing the same operation multiple times with different inputs\n",
    "* In every step, we try smaller inputs to make the problem smaller\n",
    "* Base condition is need to stop the recursion, otherwise infinite loop will occur\n",
    "* Trees and graphs prominently use Recursion\n",
    "\n",
    "### When to use Recursion?\n",
    "* When a problem can be divided into many subproblems that are similar to each other. \n",
    "* When we are fine with extra overhead (both time and space) that comes with it.\n",
    "* We need a quick solution instead of an efficient one.\n",
    "\n",
    "Time complexity can be reduced when we use memoization in recursion. <br>\n",
    "**Memoization** is a way of saving the value for each calculation for further use in the recursive call\n",
    "\n",
    "<br>\n",
    "Some questions include - \n",
    "\n",
    "1. Design an algorithm to compute nth..\n",
    "2. Write code to list the n..\n",
    "3. Implement a method to compute all..\n",
    "\n",
    "[Recursion](https://www.udemy.com/course/data-structures-and-algorithms-bootcamp-in-python/learn/lecture/17261244#overview)"
   ]
  },
  {
   "cell_type": "code",
   "execution_count": 1,
   "metadata": {},
   "outputs": [],
   "source": [
    "# example of a base condition\n",
    "def openRussianDoll(doll):\n",
    "    if doll == 1:\n",
    "        print('all dolls are opened')\n",
    "    else:\n",
    "        openRussianDoll(doll-1)\n",
    "\n",
    "#-------------To Generalize\n",
    "# def recursiveMethod(parameters):\n",
    "#     if condition_satisfied then exit:\n",
    "#         return some_value\n",
    "#     else:\n",
    "#         recursiveMethod(modified_parameters)"
   ]
  },
  {
   "cell_type": "markdown",
   "metadata": {},
   "source": [
    "### How does Recursion works\n",
    "[Reference](https://www.udemy.com/course/data-structures-and-algorithms-bootcamp-in-python/learn/lecture/18683676#overview)<br>\n",
    "While making a recustion function we need to take in account 2 conditions - \n",
    "1. A condition where a method calls itself with a smaller values\n",
    "2. A condition to exit from an infinite loop\n",
    "\n",
    "<img src = '/home/hp/Documents/College/Coding/python DSA/recursion/pictures/recursion_working.png'/>\n",
    "\n",
    "### Recursion v/s Iteration\n",
    "<img src = '/home/hp/Documents/College/Coding/python DSA/recursion/pictures/recursion&iteration.png'/>\n",
    "\n",
    "### Recursion in 3 steps\n",
    "<img src = '/home/hp/Documents/College/Coding/python DSA/recursion/pictures/recursion_in_3_steps.png'/>"
   ]
  },
  {
   "cell_type": "markdown",
   "metadata": {},
   "source": [
    "#### Question 1 - Write a program to find the factorial of any given number"
   ]
  },
  {
   "cell_type": "code",
   "execution_count": 2,
   "metadata": {},
   "outputs": [],
   "source": [
    "# Use Recursion to find the factorial of any given number\n",
    "def factorial(num):\n",
    "    # step 3 - unintentional case\n",
    "    assert num>=0 and int(num) == num , 'The input has to be a positive integer only!'\n",
    "    # step 2 - base case\n",
    "    if num in [0,1]:\n",
    "        return 1\n",
    "    # step 1- recursive case\n",
    "    else:\n",
    "        return num * factorial(num-1)"
   ]
  },
  {
   "cell_type": "code",
   "execution_count": null,
   "metadata": {},
   "outputs": [],
   "source": [
    "print(factorial(15))"
   ]
  },
  {
   "cell_type": "markdown",
   "metadata": {},
   "source": [
    "#### Question 2 - Recursive method to calculate Fibonacci numbers\n",
    "Fibonacci sequence is a sequence of numbers in which each number is the sum of the 2 preceding ones and the sequence starts from 0 and 1<br>\n",
    "The sequence looks like - 0,1,1,2,3,5,8,13,21,34,.."
   ]
  },
  {
   "cell_type": "code",
   "execution_count": 3,
   "metadata": {},
   "outputs": [],
   "source": [
    "def fibonacci(n):\n",
    "    assert n>=0 and int(n) == n, 'The input should be a positive integer!'\n",
    "    if n in [0,1]:\n",
    "        return n\n",
    "    else:\n",
    "        return fibonacci(n-1)+fibonacci(n-2)"
   ]
  },
  {
   "cell_type": "code",
   "execution_count": null,
   "metadata": {},
   "outputs": [],
   "source": [
    "fibonacci(7)"
   ]
  },
  {
   "cell_type": "code",
   "execution_count": null,
   "metadata": {},
   "outputs": [],
   "source": [
    "# fibonacci(-1)"
   ]
  },
  {
   "cell_type": "markdown",
   "metadata": {},
   "source": [
    "#### Question 3 - How to find the sum of digits of a positive integer using recursion\n",
    "To count the digits of a number mathematically, we have to divide it by 10. The quotient and the remainder together make the original number<br>\n",
    "Example:<br>\n",
    "\n",
    "* 54/10 = 5, remainder = 4<br>\n",
    "* 112/10 = 11, remainder = 2 ; 11/10 = 1, remainder = 1<br>\n",
    "\n",
    "Recursive case would look like : `f(n) = n%10 + f(n/10)`"
   ]
  },
  {
   "cell_type": "code",
   "execution_count": 4,
   "metadata": {},
   "outputs": [],
   "source": [
    "def sum_digit(n):\n",
    "    assert n>=0 and int(n) == n, 'The input should be a positive integer!'\n",
    "    if n==0:\n",
    "        return 0\n",
    "    else:\n",
    "        return int(n%10) + sum_digit(int(n/10))"
   ]
  },
  {
   "cell_type": "code",
   "execution_count": null,
   "metadata": {},
   "outputs": [],
   "source": [
    "sum_digit(54)"
   ]
  },
  {
   "cell_type": "code",
   "execution_count": null,
   "metadata": {},
   "outputs": [],
   "source": [
    "sum_digit(7978)"
   ]
  },
  {
   "cell_type": "markdown",
   "metadata": {},
   "source": [
    "#### Question 4 - How to calculate power of number using recursion\n",
    "The recursive case looks like - `f(n) = n * f(n-1)`"
   ]
  },
  {
   "cell_type": "code",
   "execution_count": 5,
   "metadata": {},
   "outputs": [],
   "source": [
    "def power(base, exponent):\n",
    "    assert int(exponent) == exponent, 'The exponent has to be an integer!'\n",
    "    if exponent == 0:\n",
    "        return 1\n",
    "    elif exponent<0:\n",
    "        return 1/base*power(base, exponent+1)\n",
    "    \n",
    "    return base*power(base, exponent-1)"
   ]
  },
  {
   "cell_type": "code",
   "execution_count": null,
   "metadata": {},
   "outputs": [],
   "source": [
    "power(2.2,4)"
   ]
  },
  {
   "cell_type": "code",
   "execution_count": null,
   "metadata": {},
   "outputs": [],
   "source": [
    "# power(2.2, 7.8)"
   ]
  },
  {
   "cell_type": "code",
   "execution_count": null,
   "metadata": {},
   "outputs": [],
   "source": [
    "power(2,-1)"
   ]
  },
  {
   "cell_type": "markdown",
   "metadata": {},
   "source": [
    "#### Question 5 - Find the GCD (Greatest Common Divisor) of two numbers using recursion\n",
    "GCD is the largest positive integer that divides the numbers without a remainder<br>\n",
    "GCD(8,12) = 4\n",
    "<img src = '/home/hp/Documents/College/Coding/python DSA/recursion/pictures/GCD-Explanation.png'/>\n",
    "\n",
    "**Recursive case** : GCD(a,b) = GCD(b, a mod b)"
   ]
  },
  {
   "cell_type": "code",
   "execution_count": 6,
   "metadata": {},
   "outputs": [],
   "source": [
    "def gcd(a,b):\n",
    "    assert int(a) == a and int(b) == b, 'The numbers must be integer only!'\n",
    "    if a<0:\n",
    "        a = -1*a\n",
    "    if b<0:\n",
    "        b = -1*b\n",
    "    if b == 0:\n",
    "        return a\n",
    "    else:\n",
    "        return gcd(b, a%b)"
   ]
  },
  {
   "cell_type": "code",
   "execution_count": null,
   "metadata": {},
   "outputs": [],
   "source": [
    "gcd(48,18)"
   ]
  },
  {
   "cell_type": "code",
   "execution_count": null,
   "metadata": {},
   "outputs": [],
   "source": [
    "gcd(48,-18)"
   ]
  },
  {
   "cell_type": "markdown",
   "metadata": {},
   "source": [
    "#### Question 5 - Convert a decimal number to binary\n",
    "<img src = '/home/hp/Documents/College/Coding/python DSA/recursion/pictures/decimal-to-binary.png'/>\n",
    "\n",
    "**Recursive case** - `f(n) = n%2 + 10 * f(n/2)`"
   ]
  },
  {
   "cell_type": "code",
   "execution_count": 9,
   "metadata": {},
   "outputs": [],
   "source": [
    "def decimalToBinary(n):\n",
    "    assert int(n) == n, 'The input should be integer only!'\n",
    "    if n == 0:\n",
    "        return 0\n",
    "    else:\n",
    "        return n%2 + 10*decimalToBinary(int(n/2))\n"
   ]
  },
  {
   "cell_type": "code",
   "execution_count": 10,
   "metadata": {},
   "outputs": [
    {
     "data": {
      "text/plain": [
       "11110"
      ]
     },
     "execution_count": 10,
     "metadata": {},
     "output_type": "execute_result"
    }
   ],
   "source": [
    "decimalToBinary(30)"
   ]
  },
  {
   "cell_type": "markdown",
   "metadata": {},
   "source": [
    "#### Question 6 - Write a function called `productOfArray` which takes in an array of numbers and returns the product of them all.\n",
    "\n",
    "Examples\n",
    "\n",
    "productOfArray([1,2,3]) #6 <br>\n",
    "productOfArray([1,2,3,10]) #60"
   ]
  },
  {
   "cell_type": "code",
   "execution_count": 11,
   "metadata": {},
   "outputs": [
    {
     "data": {
      "text/plain": [
       "[1, 2, 3]"
      ]
     },
     "execution_count": 11,
     "metadata": {},
     "output_type": "execute_result"
    }
   ],
   "source": [
    "array = [1,2,3]\n",
    "array"
   ]
  },
  {
   "cell_type": "code",
   "execution_count": 12,
   "metadata": {},
   "outputs": [
    {
     "data": {
      "text/plain": [
       "1"
      ]
     },
     "execution_count": 12,
     "metadata": {},
     "output_type": "execute_result"
    }
   ],
   "source": [
    "array[0]"
   ]
  },
  {
   "cell_type": "code",
   "execution_count": 13,
   "metadata": {},
   "outputs": [
    {
     "data": {
      "text/plain": [
       "[2, 3]"
      ]
     },
     "execution_count": 13,
     "metadata": {},
     "output_type": "execute_result"
    }
   ],
   "source": [
    "array[1:]"
   ]
  },
  {
   "cell_type": "code",
   "execution_count": 16,
   "metadata": {},
   "outputs": [],
   "source": [
    "def productOfArray(array):\n",
    "    if len(array) == 0:\n",
    "        return 1\n",
    "    return array[0] * productOfArray(array[1:])"
   ]
  },
  {
   "cell_type": "code",
   "execution_count": 23,
   "metadata": {},
   "outputs": [
    {
     "data": {
      "text/plain": [
       "-71.2"
      ]
     },
     "execution_count": 23,
     "metadata": {},
     "output_type": "execute_result"
    }
   ],
   "source": [
    "productOfArray([8.9,1,-8])"
   ]
  },
  {
   "cell_type": "markdown",
   "metadata": {},
   "source": [
    "#### Question 7 - recursiveRange\n",
    "Write a function called `recursiveRange` which accepts a number and adds up all the numbers from 0 to the number passed to the function.\n",
    "\n",
    "Examples\n",
    "\n",
    "recursiveRange(6) # 21<br>\n",
    "recursiveRange(10) # 55 "
   ]
  },
  {
   "cell_type": "code",
   "execution_count": 17,
   "metadata": {},
   "outputs": [],
   "source": [
    "def recursiveRange(num):\n",
    "    assert num>=0, 'The input should be greater than 0'\n",
    "    if num<=0:\n",
    "        return 0\n",
    "    return num + recursiveRange(num - 1)"
   ]
  },
  {
   "cell_type": "code",
   "execution_count": 18,
   "metadata": {},
   "outputs": [
    {
     "data": {
      "text/plain": [
       "10"
      ]
     },
     "execution_count": 18,
     "metadata": {},
     "output_type": "execute_result"
    }
   ],
   "source": [
    "recursiveRange(4)"
   ]
  },
  {
   "cell_type": "code",
   "execution_count": 19,
   "metadata": {},
   "outputs": [
    {
     "ename": "AssertionError",
     "evalue": "The input should be greater than 0",
     "output_type": "error",
     "traceback": [
      "\u001b[0;31m---------------------------------------------------------------------------\u001b[0m",
      "\u001b[0;31mAssertionError\u001b[0m                            Traceback (most recent call last)",
      "\u001b[1;32m/home/hp/Documents/College/Coding/python DSA/recursion/recursion.ipynb Cell 36\u001b[0m in \u001b[0;36m<cell line: 1>\u001b[0;34m()\u001b[0m\n\u001b[0;32m----> <a href='vscode-notebook-cell:/home/hp/Documents/College/Coding/python%20DSA/recursion/recursion.ipynb#X50sZmlsZQ%3D%3D?line=0'>1</a>\u001b[0m recursiveRange(\u001b[39m-\u001b[39;49m\u001b[39m4\u001b[39;49m)\n",
      "\u001b[1;32m/home/hp/Documents/College/Coding/python DSA/recursion/recursion.ipynb Cell 36\u001b[0m in \u001b[0;36mrecursiveRange\u001b[0;34m(num)\u001b[0m\n\u001b[1;32m      <a href='vscode-notebook-cell:/home/hp/Documents/College/Coding/python%20DSA/recursion/recursion.ipynb#X50sZmlsZQ%3D%3D?line=0'>1</a>\u001b[0m \u001b[39mdef\u001b[39;00m \u001b[39mrecursiveRange\u001b[39m(num):\n\u001b[0;32m----> <a href='vscode-notebook-cell:/home/hp/Documents/College/Coding/python%20DSA/recursion/recursion.ipynb#X50sZmlsZQ%3D%3D?line=1'>2</a>\u001b[0m     \u001b[39massert\u001b[39;00m num\u001b[39m>\u001b[39m\u001b[39m=\u001b[39m\u001b[39m0\u001b[39m, \u001b[39m'\u001b[39m\u001b[39mThe input should be greater than 0\u001b[39m\u001b[39m'\u001b[39m\n\u001b[1;32m      <a href='vscode-notebook-cell:/home/hp/Documents/College/Coding/python%20DSA/recursion/recursion.ipynb#X50sZmlsZQ%3D%3D?line=2'>3</a>\u001b[0m     \u001b[39mif\u001b[39;00m num\u001b[39m<\u001b[39m\u001b[39m=\u001b[39m\u001b[39m0\u001b[39m:\n\u001b[1;32m      <a href='vscode-notebook-cell:/home/hp/Documents/College/Coding/python%20DSA/recursion/recursion.ipynb#X50sZmlsZQ%3D%3D?line=3'>4</a>\u001b[0m         \u001b[39mreturn\u001b[39;00m \u001b[39m0\u001b[39m\n",
      "\u001b[0;31mAssertionError\u001b[0m: The input should be greater than 0"
     ]
    }
   ],
   "source": [
    "# recursiveRange(-4)"
   ]
  },
  {
   "cell_type": "code",
   "execution_count": 12,
   "metadata": {},
   "outputs": [
    {
     "data": {
      "text/plain": [
       "0"
      ]
     },
     "execution_count": 12,
     "metadata": {},
     "output_type": "execute_result"
    }
   ],
   "source": [
    "recursiveRange(0)"
   ]
  },
  {
   "cell_type": "markdown",
   "metadata": {},
   "source": [
    "#### Question 8 - Reverse a string\n",
    "Write a recursive function called reverse which accepts a string and returns a new string in reverse.\n",
    "\n",
    "Examples\n",
    "\n",
    "reverse('python') # 'nohtyp'<br>\n",
    "reverse('appmillers') # 'srellimppa'"
   ]
  },
  {
   "cell_type": "code",
   "execution_count": 47,
   "metadata": {},
   "outputs": [],
   "source": [
    "def reverse(string):\n",
    "    if len(string) == 0:\n",
    "        return ''       #if we return 0 then we get an error because below in the return statement we'd be trying to add a string value and an integer value\n",
    "    return reverse(string[1:]) + string[0]"
   ]
  },
  {
   "cell_type": "code",
   "execution_count": 48,
   "metadata": {},
   "outputs": [
    {
     "name": "stdout",
     "output_type": "stream",
     "text": [
      "ihdin\n"
     ]
    }
   ],
   "source": [
    "string1 = 'nidhi'\n",
    "print(reverse(string1))"
   ]
  },
  {
   "cell_type": "markdown",
   "metadata": {},
   "source": [
    "#### Question 9 - isPanlindrome\n",
    "Write a recursive function called isPalindrome which returns true if the string passed to it is a palindrome (reads the same forward and backward). Otherwise it returns false.\n",
    "\n",
    "Examples\n",
    "\n",
    "isPalindrome('awesome') # false<br>\n",
    "isPalindrome('foobar') # false<br>\n",
    "isPalindrome('tacocat') # true<br>\n",
    "isPalindrome('amanaplanacanalpanama') # true<br>\n",
    "isPalindrome('amanaplanacanalpandemonium') # false<br>"
   ]
  },
  {
   "cell_type": "code",
   "execution_count": 59,
   "metadata": {},
   "outputs": [],
   "source": [
    "def isPalindrome(word):\n",
    "    if len(word) < 2:\n",
    "        return True\n",
    "    if word[0] != word[-1]:\n",
    "        return False\n",
    "    return isPalindrome(word[1:-2])"
   ]
  },
  {
   "cell_type": "code",
   "execution_count": 60,
   "metadata": {},
   "outputs": [
    {
     "data": {
      "text/plain": [
       "True"
      ]
     },
     "execution_count": 60,
     "metadata": {},
     "output_type": "execute_result"
    }
   ],
   "source": [
    "isPalindrome('dad')"
   ]
  },
  {
   "cell_type": "code",
   "execution_count": 61,
   "metadata": {},
   "outputs": [
    {
     "data": {
      "text/plain": [
       "False"
      ]
     },
     "execution_count": 61,
     "metadata": {},
     "output_type": "execute_result"
    }
   ],
   "source": [
    "isPalindrome('jfskhfskjhf')"
   ]
  },
  {
   "cell_type": "code",
   "execution_count": 62,
   "metadata": {},
   "outputs": [
    {
     "data": {
      "text/plain": [
       "False"
      ]
     },
     "execution_count": 62,
     "metadata": {},
     "output_type": "execute_result"
    }
   ],
   "source": [
    "isPalindrome('malyalam')"
   ]
  },
  {
   "cell_type": "code",
   "execution_count": 63,
   "metadata": {},
   "outputs": [
    {
     "data": {
      "text/plain": [
       "True"
      ]
     },
     "execution_count": 63,
     "metadata": {},
     "output_type": "execute_result"
    }
   ],
   "source": [
    "isPalindrome('daad')"
   ]
  },
  {
   "cell_type": "code",
   "execution_count": 65,
   "metadata": {},
   "outputs": [
    {
     "data": {
      "text/plain": [
       "True"
      ]
     },
     "execution_count": 65,
     "metadata": {},
     "output_type": "execute_result"
    }
   ],
   "source": [
    "isPalindrome('')"
   ]
  },
  {
   "cell_type": "markdown",
   "metadata": {},
   "source": [
    "#### Question 10 - someRecursive\n",
    "Write a recursive function called someRecursive which accepts an array and a callback. The function returns true if a single value in the array returns true when passed to the callback. Otherwise it returns false.\n",
    "\n",
    "Examples\n",
    "\n",
    "someRecursive([1,2,3,4], isOdd) # true <br>\n",
    "someRecursive([4,6,8,9], isOdd) # true <br>\n",
    "someRecursive([4,6,8], isOdd) # false <br>"
   ]
  },
  {
   "cell_type": "code",
   "execution_count": 71,
   "metadata": {},
   "outputs": [],
   "source": [
    "#creating a callback function\n",
    "def isOdd(num):\n",
    "    if num%2 == 0:\n",
    "        return False\n",
    "    else:\n",
    "        return True\n",
    "\n",
    "def someRecursive(array, callback):\n",
    "    if len(array) == 0:\n",
    "        return False\n",
    "    if not(callback(array[0])):\n",
    "        return someRecursive(array[1:], callback)\n",
    "    return True"
   ]
  },
  {
   "cell_type": "code",
   "execution_count": 72,
   "metadata": {},
   "outputs": [
    {
     "data": {
      "text/plain": [
       "True"
      ]
     },
     "execution_count": 72,
     "metadata": {},
     "output_type": "execute_result"
    }
   ],
   "source": [
    "someRecursive([1,2,3,4], isOdd)"
   ]
  },
  {
   "cell_type": "markdown",
   "metadata": {},
   "source": [
    "#### Question 11 - flatten\n",
    "Write a recursive function called flatten which accepts an array of arrays and returns a new array with all values flattened.\n",
    "\n",
    "Examples\n",
    "\n",
    "flatten([1, 2, 3, [4, 5]]) # [1, 2, 3, 4, 5] <br>\n",
    "flatten([1, [2, [3, 4], [[5]]]]) # [1, 2, 3, 4, 5] <br>\n",
    "flatten([[1], [2], [3]]) # [1, 2, 3] <br>\n",
    "flatten([[[[1], [[[2]]], [[[[[[[3]]]]]]]]]]) # [1, 2, 3] <br>"
   ]
  }
 ],
 "metadata": {
  "kernelspec": {
   "display_name": "Python 3.10.6 64-bit",
   "language": "python",
   "name": "python3"
  },
  "language_info": {
   "codemirror_mode": {
    "name": "ipython",
    "version": 3
   },
   "file_extension": ".py",
   "mimetype": "text/x-python",
   "name": "python",
   "nbconvert_exporter": "python",
   "pygments_lexer": "ipython3",
   "version": "3.10.6"
  },
  "orig_nbformat": 4,
  "vscode": {
   "interpreter": {
    "hash": "916dbcbb3f70747c44a77c7bcd40155683ae19c65e1c03b4aa3499c5328201f1"
   }
  }
 },
 "nbformat": 4,
 "nbformat_minor": 2
}
