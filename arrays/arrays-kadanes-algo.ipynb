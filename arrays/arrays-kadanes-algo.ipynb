{
 "cells": [
  {
   "cell_type": "markdown",
   "metadata": {},
   "source": [
    "# Kadanes Algorithm\n",
    "[Link](https://neetcode.io/courses/advanced-algorithms/0)\n",
    "\n",
    "Kadane's algorithm tells us that there is a way to calculate the largest sum by only making one pass on the array, bringing the complexity down to linear time. Let's look at how that can be done.\n",
    "\n",
    "Since we are looking for the largest sum, it is a good idea to avoid negative numbers because we know that contradicts what the question is asking for. Negative numbers will only make our sum smaller. Kadane's algorithm runs one for loop over the array and at the beginning of each iteration, if the current sum is negative, it will reset the current sum to zero. This way, we ensure a one-pass and solve the problem in linear time. This is how it would look like in code and visualized. Remember, the key here is that if we encounter a subarray with a negative sum, we discard it and we keep considering a subarray as long as it has a positive sum.\n",
    "\n",
    "<img src = 'https://imagedelivery.net/CLfkmk9Wzy8_9HRyug4EVA/f16c1a92-9cbd-43d4-ae6b-0d143e833d00/sharpen=1'>\n",
    "\n",
    "```\n",
    "def kadanes(nums):\n",
    "    maxSum = nums[0]\n",
    "    curSum = 0\n",
    "\n",
    "    for n in nums:\n",
    "        curSum = max(curSum, 0)\n",
    "        curSum += n\n",
    "        maxSum = max(maxSum, curSum)\n",
    "    return maxSum\n",
    "```\n",
    "\n",
    "\n",
    "Sliding Window\n",
    "Sometimes, a problem may ask to return the actual subarray containing the largest sum, instead of just the sum itself? We did not necessarily have two explicit pointers that kept track of the subarray in the previous implementation but we can actually do this by keeping track of a \"window\". A window in this case denotes a contiguous subarray that does not break our constraint of the sum staying positive.\n",
    "\n",
    "To do this, we can have a left pointer, L = 0, and a right pointer, R. We will add elements from the right and remove from the left. Since we want the subarray with the maximum sum, we can also have two other pointers, maxL and maxR, which keep track of the subarray that contains the maximum sum so far. This way, we don't lose them when we move L and R. Similar to before, if our current sum becomes negative, we can move our left pointer all the way to our right pointer. This means that our constraint was broken and we remove all elements from the left and start a new window.\n",
    "\n",
    "<img src = 'https://imagedelivery.net/CLfkmk9Wzy8_9HRyug4EVA/15050f42-b760-47c8-813b-af6bc43bde00/sharpen=1'>\n",
    "\n",
    "```\n",
    "def slidingWindow(nums):\n",
    "    maxSum = nums[0]\n",
    "    curSum = 0\n",
    "    maxL, maxR = 0, 0\n",
    "    L = 0\n",
    "\n",
    "    for R in range(len(nums)):\n",
    "        if curSum < 0:\n",
    "            curSum = 0\n",
    "            L = R\n",
    "\n",
    "        curSum += nums[R]\n",
    "        if curSum > maxSum:\n",
    "            maxSum = curSum\n",
    "            maxL, maxR = L, R \n",
    "\n",
    "    return [maxL, maxR]```"
   ]
  },
  {
   "cell_type": "markdown",
   "metadata": {},
   "source": [
    "### Question 1 - find the maximum sum of subarray with non-zero elements\n",
    "\n",
    "5Leetcode 53. Maximum Subarray\n",
    "\n",
    "Given an integer array nums, find the subarray with the largest sum, and return its sum.\n",
    "\n",
    "Example 1:\n",
    "\n",
    "Input: nums = [-2,1,-3,4,-1,2,1,-5,4]\n",
    "Output: 6\n",
    "Explanation: The subarray [4,-1,2,1] has the largest sum 6.\n",
    "Example 2:\n",
    "\n",
    "Input: nums = [1]\n",
    "Output: 1\n",
    "Explanation: The subarray [1] has the largest sum 1.\n",
    "Example 3:\n",
    "\n",
    "Input: nums = [5,4,-1,7,8]\n",
    "Output: 23\n",
    "Explanation: The subarray [5,4,-1,7,8] has the largest sum 23."
   ]
  },
  {
   "cell_type": "code",
   "execution_count": null,
   "metadata": {},
   "outputs": [],
   "source": [
    "class Solution:\n",
    "    def maxSubArray(self, nums: list[int]) -> int:\n",
    "        currSum = 0\n",
    "        maxSum = nums[0]\n",
    "        for n in nums:\n",
    "            currSum = max(0, currSum)\n",
    "            currSum += n\n",
    "            maxSum = max(maxSum, currSum)\n",
    "        return maxSum"
   ]
  },
  {
   "cell_type": "markdown",
   "metadata": {},
   "source": []
  },
  {
   "cell_type": "code",
   "execution_count": null,
   "metadata": {},
   "outputs": [],
   "source": []
  }
 ],
 "metadata": {
  "language_info": {
   "name": "python"
  },
  "orig_nbformat": 4
 },
 "nbformat": 4,
 "nbformat_minor": 2
}
