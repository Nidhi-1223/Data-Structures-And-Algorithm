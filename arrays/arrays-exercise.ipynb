{
 "cells": [
  {
   "cell_type": "markdown",
   "metadata": {},
   "source": [
    "# Arrays Exercise"
   ]
  },
  {
   "cell_type": "markdown",
   "metadata": {},
   "source": [
    "##  Q.1 - Create an array, traverse and access individual elements"
   ]
  },
  {
   "cell_type": "code",
   "execution_count": 1,
   "metadata": {},
   "outputs": [
    {
     "name": "stdout",
     "output_type": "stream",
     "text": [
      "1\n",
      "2\n",
      "3\n",
      "4\n",
      "5\n"
     ]
    },
    {
     "data": {
      "text/plain": [
       "1"
      ]
     },
     "execution_count": 1,
     "metadata": {},
     "output_type": "execute_result"
    }
   ],
   "source": [
    "import numpy as np\n",
    "from array import *\n",
    "my_array_np = np.array([1,2,3,4,5], dtype=int )\n",
    "my_array = array('i', [1,2,3,4,5])\n",
    "# my_array\n",
    "for i in my_array:\n",
    "    print(i)\n",
    "my_array[0]"
   ]
  },
  {
   "cell_type": "markdown",
   "metadata": {},
   "source": [
    "## Q.2 - Append values in the array using `append()` method and `insert()` method"
   ]
  },
  {
   "cell_type": "code",
   "execution_count": 2,
   "metadata": {},
   "outputs": [],
   "source": [
    "my_array.append(6)      # np array doesnt support append method and insert method"
   ]
  },
  {
   "cell_type": "code",
   "execution_count": 3,
   "metadata": {},
   "outputs": [
    {
     "data": {
      "text/plain": [
       "array('i', [1, 2, 3, 90, 4, 5, 6])"
      ]
     },
     "execution_count": 3,
     "metadata": {},
     "output_type": "execute_result"
    }
   ],
   "source": [
    "my_array.insert(3,90)\n",
    "my_array"
   ]
  },
  {
   "cell_type": "markdown",
   "metadata": {},
   "source": [
    "## Q.3 Extend python array using `extend()` method\n",
    "- Using the `extend()` method, an array can be extended with more than one value"
   ]
  },
  {
   "cell_type": "code",
   "execution_count": 4,
   "metadata": {},
   "outputs": [
    {
     "data": {
      "text/plain": [
       "array('i', [1, 2, 3, 90, 4, 5, 6, 8, 9, 10])"
      ]
     },
     "execution_count": 4,
     "metadata": {},
     "output_type": "execute_result"
    }
   ],
   "source": [
    "my_array.extend([8,9,10])\n",
    "my_array"
   ]
  },
  {
   "cell_type": "markdown",
   "metadata": {},
   "source": [
    "## Q.4 Add items from a list to array `fromlist()`"
   ]
  },
  {
   "cell_type": "code",
   "execution_count": 5,
   "metadata": {},
   "outputs": [
    {
     "name": "stdout",
     "output_type": "stream",
     "text": [
      "array('i', [1, 2, 3, 90, 4, 5, 6, 8, 9, 10, 67, 78, 8, 9, 90])\n"
     ]
    }
   ],
   "source": [
    "my_list = [67,78,8,9,90]\n",
    "my_array.fromlist(my_list)\n",
    "print(my_array)"
   ]
  },
  {
   "cell_type": "markdown",
   "metadata": {},
   "source": [
    "## Q.5 Remove an array element using `remove()` method and `pop()` method"
   ]
  },
  {
   "cell_type": "code",
   "execution_count": 6,
   "metadata": {},
   "outputs": [
    {
     "name": "stdout",
     "output_type": "stream",
     "text": [
      "array('i', [1, 2, 3, 90, 4, 5, 6, 9, 10, 67, 78, 8, 9, 90])\n"
     ]
    }
   ],
   "source": [
    "my_array.remove(8)\n",
    "print(my_array)\n",
    "# it will remove the first occurence of 8 from the array"
   ]
  },
  {
   "cell_type": "code",
   "execution_count": 7,
   "metadata": {},
   "outputs": [
    {
     "name": "stdout",
     "output_type": "stream",
     "text": [
      "array('i', [1, 2, 3, 90, 4, 5, 6, 9, 10, 67, 8, 9, 90])\n"
     ]
    }
   ],
   "source": [
    "my_array.pop(10)\n",
    "print(my_array)\n",
    "# removes the 10th element (index = 10)"
   ]
  },
  {
   "cell_type": "markdown",
   "metadata": {},
   "source": [
    "## Q. 6 Fetch any element through its index using the `index()` method"
   ]
  },
  {
   "cell_type": "code",
   "execution_count": 8,
   "metadata": {},
   "outputs": [
    {
     "data": {
      "text/plain": [
       "10"
      ]
     },
     "execution_count": 8,
     "metadata": {},
     "output_type": "execute_result"
    }
   ],
   "source": [
    "my_array.index(8)\n",
    "# returns the index of the first occurence of 8 in the array\n",
    "# print(my_array)"
   ]
  },
  {
   "cell_type": "markdown",
   "metadata": {},
   "source": [
    "# Q.7 Reverse a python array using the `reverse()` method"
   ]
  },
  {
   "cell_type": "code",
   "execution_count": 9,
   "metadata": {},
   "outputs": [],
   "source": [
    "my_array.reverse()"
   ]
  },
  {
   "cell_type": "code",
   "execution_count": 10,
   "metadata": {},
   "outputs": [
    {
     "data": {
      "text/plain": [
       "array('i', [90, 9, 8, 67, 10, 9, 6, 5, 4, 90, 3, 2, 1])"
      ]
     },
     "execution_count": 10,
     "metadata": {},
     "output_type": "execute_result"
    }
   ],
   "source": [
    "my_array"
   ]
  },
  {
   "cell_type": "markdown",
   "metadata": {},
   "source": [
    "## Q.8 Get array buffer information using `buffer_info()` method"
   ]
  },
  {
   "cell_type": "code",
   "execution_count": 11,
   "metadata": {},
   "outputs": [
    {
     "data": {
      "text/plain": [
       "(3127909106992, 13)"
      ]
     },
     "execution_count": 11,
     "metadata": {},
     "output_type": "execute_result"
    }
   ],
   "source": [
    "my_array.buffer_info()\n",
    "# (array buffer starts from this point in the memory, has these many elements)"
   ]
  },
  {
   "cell_type": "markdown",
   "metadata": {},
   "source": [
    "## Q.9 Check the no. of occurences of an element using `count()` method"
   ]
  },
  {
   "cell_type": "code",
   "execution_count": 12,
   "metadata": {},
   "outputs": [
    {
     "data": {
      "text/plain": [
       "1"
      ]
     },
     "execution_count": 12,
     "metadata": {},
     "output_type": "execute_result"
    }
   ],
   "source": [
    "my_array.count(8)\n",
    "# returns the no. of occurences of 8 in the array."
   ]
  },
  {
   "cell_type": "markdown",
   "metadata": {},
   "source": [
    "## Q.10 Convert array to list `tolist()` method"
   ]
  },
  {
   "cell_type": "code",
   "execution_count": 13,
   "metadata": {},
   "outputs": [
    {
     "data": {
      "text/plain": [
       "[90, 9, 8, 67, 10, 9, 6, 5, 4, 90, 3, 2, 1]"
      ]
     },
     "execution_count": 13,
     "metadata": {},
     "output_type": "execute_result"
    }
   ],
   "source": [
    "lsit=my_array.tolist()\n",
    "lsit"
   ]
  },
  {
   "cell_type": "markdown",
   "metadata": {},
   "source": [
    "## Q.11 Slice elements from an array"
   ]
  },
  {
   "cell_type": "code",
   "execution_count": 14,
   "metadata": {},
   "outputs": [
    {
     "data": {
      "text/plain": [
       "array('i', [90, 9, 8, 67, 10, 9, 6, 5, 4, 90, 3, 2, 1])"
      ]
     },
     "execution_count": 14,
     "metadata": {},
     "output_type": "execute_result"
    }
   ],
   "source": [
    "my_array\n"
   ]
  },
  {
   "cell_type": "markdown",
   "metadata": {},
   "source": [
    "# LeetCode Exercise\n",
    "\n",
    "## 238. Move Zeros"
   ]
  },
  {
   "cell_type": "code",
   "execution_count": 24,
   "metadata": {},
   "outputs": [
    {
     "name": "stdout",
     "output_type": "stream",
     "text": [
      "[1, 3, 12]\n",
      "[0, 0]\n",
      "[1, 3, 12, 0, 0]\n"
     ]
    }
   ],
   "source": [
    "arr = [0,1,0,3,12]\n",
    "new_arr = []\n",
    "new_arr_zero = []\n",
    "\n",
    "for i in range(len(arr)):\n",
    "    if arr[i] != 0:\n",
    "        new_arr.append(arr[i])\n",
    "    else:\n",
    "        new_arr_zero.append(arr[i])\n",
    "print(new_arr)\n",
    "print(new_arr_zero)\n",
    "\n",
    "new_arr.extend(new_arr_zero)\n",
    "print(new_arr)"
   ]
  },
  {
   "cell_type": "markdown",
   "metadata": {},
   "source": [
    "### Leetcode\n",
    "#### 121. Best Time to Buy and Sell Stock\n",
    "\n",
    "You are given an array prices where prices[i] is the price of a given stock on the ith day.\n",
    "\n",
    "You want to maximize your profit by choosing a single day to buy one stock and choosing a different day in the future to sell that stock.\n",
    "\n",
    "Return the maximum profit you can achieve from this transaction. If you cannot achieve any profit, return 0."
   ]
  },
  {
   "cell_type": "markdown",
   "metadata": {},
   "source": [
    "#### Chocolate Distribution problem\n",
    "Given an array of N integers where each value represents the number of chocolates in a packet. Each packet can have a variable number of chocolates. There are m students, the task is to distribute chocolate packets such that: \n",
    "\n",
    "- Each student gets one packet.<br>\n",
    "- The difference between the number of chocolates in the packet with maximum chocolates and the packet with minimum chocolates given to the students is minimum.\n",
    "Examples:\n",
    "\n",
    "Input : arr[] = {7, 3, 2, 4, 9, 12, 56} , m = 3 <br>\n",
    "Output: Minimum Difference is 2 <br>\n",
    "Explanation:<br>\n",
    "We have seven packets of chocolates and we need to pick three packets for 3 students \n",
    "If we pick 2, 3 and 4, we get the minimum difference between maximum and minimum packet sizes.\n",
    "\n",
    "Input : arr[] = {3, 4, 1, 9, 56, 7, 9, 12} , m = 5 <br>\n",
    "Output: Minimum Difference is 6 \n",
    "\n",
    "\n",
    "Input : arr[] = {12, 4, 7, 9, 2, 23, 25, 41, 30, 40, 28, 42, 30, 44, 48, 43, 50} , m = 7  <br>\n",
    "Output: Minimum Difference is 10 "
   ]
  },
  {
   "cell_type": "code",
   "execution_count": 14,
   "metadata": {},
   "outputs": [
    {
     "name": "stdout",
     "output_type": "stream",
     "text": [
      "[2, 3, 4, 7, 9, 12, 56]\n",
      "2\n"
     ]
    }
   ],
   "source": [
    "# logic\n",
    "\n",
    "arr = [7, 3, 2, 4, 9, 12, 56]\n",
    "m = 3  # Number of students\n",
    "arr.sort()\n",
    "# print(arr)\n",
    "n = len(arr)\n",
    "min_diff = arr[n-1] - arr[0] # literally the largest number possible\n",
    "\n",
    "for i in range(len(arr) - m + 1):\n",
    "    diff = arr[i+m-1] - arr[i]\n",
    "    min_diff = min(min_diff, diff)\n",
    "print(min_diff)\n"
   ]
  },
  {
   "cell_type": "code",
   "execution_count": 15,
   "metadata": {},
   "outputs": [
    {
     "name": "stdout",
     "output_type": "stream",
     "text": [
      "Min difference is : 10\n"
     ]
    }
   ],
   "source": [
    "def findMinDiff(arr, m):\n",
    "    n = len(arr)\n",
    "    if (m==0 or n==0):\n",
    "        return 0\n",
    "    \n",
    "    if n<m:\n",
    "        return -1\n",
    "    \n",
    "    arr.sort()\n",
    "\n",
    "    min_diff = arr[n-1] - arr[0]\n",
    "\n",
    "    for i in range(len(arr) - m + 1):\n",
    "        diff = arr[i+m-1] - arr[i]\n",
    "        min_diff = min(min_diff, diff)\n",
    "\n",
    "    return min_diff\n",
    "\n",
    "# driver code\n",
    "if __name__ == '__main__':\n",
    "    arr = [12, 4, 7, 9, 2, 23, 25, 41,\n",
    "           30, 40, 28, 42, 30, 44, 48,\n",
    "           43, 50]\n",
    "    m = 7  # Number of students\n",
    "    print('Min difference is :', findMinDiff(arr, m))\n",
    "\n",
    "    \n"
   ]
  },
  {
   "cell_type": "code",
   "execution_count": 24,
   "metadata": {},
   "outputs": [
    {
     "name": "stdout",
     "output_type": "stream",
     "text": [
      "slow - 1 \n",
      "\n",
      "fast - 3 \n",
      "\n",
      "\n",
      "slow - 3 \n",
      "\n",
      "fast - 4 \n",
      "\n",
      "\n",
      "slow - 2 \n",
      "\n",
      "fast - 4 \n",
      "\n",
      "\n",
      "slow - 4 \n",
      "\n",
      "fast - 4 \n",
      "\n",
      "\n"
     ]
    }
   ],
   "source": [
    "arr = [1,3,4,2,2]\n",
    "\n",
    "slow, fast = 0, 0\n",
    "while True:\n",
    "    slow = arr[slow]\n",
    "    print(f'slow - {slow} \\n')\n",
    "    fast = arr[arr[fast]]\n",
    "    print(f'fast - {fast} \\n\\n')\n",
    "    if slow == fast:\n",
    "        break"
   ]
  },
  {
   "cell_type": "code",
   "execution_count": 6,
   "metadata": {},
   "outputs": [
    {
     "name": "stdout",
     "output_type": "stream",
     "text": [
      "iteration 1 - [0, 2, 2, 1, 1, 0]\n",
      "iteration 3 - [0, 1, 2, 2, 1, 0]\n",
      "iteration 4 - [0, 1, 1, 2, 2, 0]\n",
      "iteration 5 - [0, 1, 1, 0, 2, 2]\n"
     ]
    },
    {
     "ename": "IndexError",
     "evalue": "list index out of range",
     "output_type": "error",
     "traceback": [
      "\u001b[1;31m---------------------------------------------------------------------------\u001b[0m",
      "\u001b[1;31mIndexError\u001b[0m                                Traceback (most recent call last)",
      "Cell \u001b[1;32mIn[6], line 11\u001b[0m\n\u001b[0;32m      9\u001b[0m \u001b[39mwhile\u001b[39;00m \u001b[39mTrue\u001b[39;00m:\n\u001b[0;32m     10\u001b[0m     r\u001b[39m+\u001b[39m\u001b[39m=\u001b[39m\u001b[39m1\u001b[39m\n\u001b[1;32m---> 11\u001b[0m     \u001b[39mif\u001b[39;00m nums[l]\u001b[39m>\u001b[39mnums[r]:\n\u001b[0;32m     12\u001b[0m         nums[l], nums[r] \u001b[39m=\u001b[39m nums[r], nums[l]\n\u001b[0;32m     13\u001b[0m         l\u001b[39m+\u001b[39m\u001b[39m=\u001b[39m\u001b[39m1\u001b[39m\n",
      "\u001b[1;31mIndexError\u001b[0m: list index out of range"
     ]
    }
   ],
   "source": [
    "nums = [2,0,2,1,1,0]\n",
    "l = 0\n",
    "# for r in range(len(nums)):\n",
    "#     if nums[l]>nums[r]:\n",
    "#         nums[l], nums[r] = nums[r], nums[l]\n",
    "#         l+=1\n",
    "#         print(f'iteration {r} - {nums}')\n",
    "r=0\n",
    "while True:\n",
    "    r+=1\n",
    "    if nums[l]>nums[r]:\n",
    "        nums[l], nums[r] = nums[r], nums[l]\n",
    "        l+=1\n",
    "        print(f'iteration {r} - {nums}')\n",
    "    \n",
    "print(nums)    "
   ]
  }
 ],
 "metadata": {
  "kernelspec": {
   "display_name": "Python 3",
   "language": "python",
   "name": "python3"
  },
  "language_info": {
   "codemirror_mode": {
    "name": "ipython",
    "version": 3
   },
   "file_extension": ".py",
   "mimetype": "text/x-python",
   "name": "python",
   "nbconvert_exporter": "python",
   "pygments_lexer": "ipython3",
   "version": "3.9.5"
  },
  "orig_nbformat": 4
 },
 "nbformat": 4,
 "nbformat_minor": 2
}
