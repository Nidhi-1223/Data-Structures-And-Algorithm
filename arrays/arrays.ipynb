{
 "cells": [
  {
   "cell_type": "markdown",
   "metadata": {},
   "source": [
    "# Arrays (1-D Arrays)\n",
    "Arrays are a collection of elements of the same datatype\n",
    "\n",
    "<img width = 1000 src = 'arrays-as-macrons.png'/>\n",
    "\n",
    "## Types of Arrays\n",
    "<img width = 1000 src = 'types-of-arrays.png'/>\n",
    "\n",
    "## Arrays in Memory\n",
    "<img width = 1000 src = 'arrays-in-1D.png'/>\n",
    "\n",
    "<img width = 1000 src = 'arrays-in-2D.png'/>\n",
    "\n",
    "<img width = 1000 src = 'arrays-in-3D.png'/>"
   ]
  },
  {
   "cell_type": "markdown",
   "metadata": {},
   "source": [
    "## Initialising an array (1 Dimensional)\n",
    "1. Using Array model\n",
    "2. Using Numpy model"
   ]
  },
  {
   "cell_type": "code",
   "execution_count": 2,
   "metadata": {},
   "outputs": [
    {
     "data": {
      "text/plain": [
       "array('i')"
      ]
     },
     "execution_count": 2,
     "metadata": {},
     "output_type": "execute_result"
    }
   ],
   "source": [
    "import array\n",
    "my_array = array.array('i') # i stands for integer\n",
    "my_array\n",
    "# we've initialised an empty array, Time & Space Complexity = O(1)"
   ]
  },
  {
   "cell_type": "code",
   "execution_count": 3,
   "metadata": {},
   "outputs": [
    {
     "data": {
      "text/plain": [
       "array('i', [1, 2, 3, 4, 5, 6, 67, 7, 8, 9, 10])"
      ]
     },
     "execution_count": 3,
     "metadata": {},
     "output_type": "execute_result"
    }
   ],
   "source": [
    "my_array1 = array.array('i', [1,2,3,4,5,6,67,7,8,9,10])\n",
    "my_array1\n",
    "# for an array of size 'n' , Time & Space Complexity = O(n)"
   ]
  },
  {
   "cell_type": "code",
   "execution_count": 4,
   "metadata": {},
   "outputs": [
    {
     "data": {
      "text/plain": [
       "array([], dtype=int32)"
      ]
     },
     "execution_count": 4,
     "metadata": {},
     "output_type": "execute_result"
    }
   ],
   "source": [
    "import numpy as np\n",
    "np_array = np.array([], dtype=int)\n",
    "np_array\n",
    "# we've initialised an empty array, Time & Space Complexity = O(1)"
   ]
  },
  {
   "cell_type": "code",
   "execution_count": 5,
   "metadata": {},
   "outputs": [
    {
     "data": {
      "text/plain": [
       "[1, 2, 3, 4, 5, 6, 7, 8, 9]"
      ]
     },
     "execution_count": 5,
     "metadata": {},
     "output_type": "execute_result"
    }
   ],
   "source": [
    "np_array1 = [1,2,3,4,5,6,7,8,9]\n",
    "np_array1\n",
    "# for an array of size 'n' , Time & Space Complexity = O(n)"
   ]
  },
  {
   "cell_type": "markdown",
   "metadata": {},
   "source": [
    "## Inserting an element\n",
    "We have the option to insert an element either in the front, back or the middle of the array"
   ]
  },
  {
   "cell_type": "code",
   "execution_count": 6,
   "metadata": {},
   "outputs": [
    {
     "name": "stdout",
     "output_type": "stream",
     "text": [
      "array('i', [1, 2, 3, 4])\n"
     ]
    },
    {
     "data": {
      "text/plain": [
       "'\\nas we can see when we insert any element the existing elements after the index to which the value is inserted have to shift right. So the time complexity depends upon THE NO. OF ELEMENTS SHIFTING RIGHT. \\nSo, in the worst case - when we have to insert an element in the beginning the complexity will be O(N)\\nSpace Complexity = O(1) -- because when we are inserting an element in an array, we only need one place for the element\\n'"
      ]
     },
     "execution_count": 6,
     "metadata": {},
     "output_type": "execute_result"
    }
   ],
   "source": [
    "my_array = array.array('i', [1,2,3,4])\n",
    "print(my_array)\n",
    "\n",
    "# inserting\n",
    "my_array.insert(1, 6)       # (index, value)\n",
    "my_array\n",
    "'''\n",
    "as we can see when we insert any element the existing elements after the index to which the value is inserted have to shift right. So the time complexity depends upon THE NO. OF ELEMENTS SHIFTING RIGHT. \n",
    "So, in the worst case - when we have to insert an element in the beginning the complexity will be O(N)\n",
    "Space Complexity = O(1) -- because when we are inserting an element in an array, we only need one place for the element\n",
    "'''"
   ]
  },
  {
   "cell_type": "code",
   "execution_count": 7,
   "metadata": {},
   "outputs": [
    {
     "data": {
      "text/plain": [
       "array('i', [1, 6, 2, 3, 4])"
      ]
     },
     "execution_count": 7,
     "metadata": {},
     "output_type": "execute_result"
    }
   ],
   "source": [
    "my_array"
   ]
  },
  {
   "cell_type": "markdown",
   "metadata": {},
   "source": [
    "## Traversing and accessing an element"
   ]
  },
  {
   "cell_type": "code",
   "execution_count": 8,
   "metadata": {},
   "outputs": [
    {
     "name": "stdout",
     "output_type": "stream",
     "text": [
      "1\n",
      "6\n",
      "2\n",
      "3\n",
      "4\n",
      "\n",
      "\n",
      "If printed with index\n",
      "1 at index 0\n",
      "6 at index 1\n",
      "2 at index 2\n",
      "3 at index 3\n",
      "4 at index 4\n"
     ]
    }
   ],
   "source": [
    "# function -1 for traversal (preferred)\n",
    "for i in my_array:\n",
    "    print(i)\n",
    "\n",
    "print('\\n\\nIf printed with index')\n",
    "# function-2 for traversal\n",
    "for i in range(0, len(my_array)):\n",
    "    print(f'{my_array[i]} at index {i}')\n",
    "\n",
    "'''\n",
    "Time Complexity = O(N)\n",
    "Space Complexity = O(1) because we dont need an extra location\n",
    "'''\n",
    "\n",
    "\n",
    "### writing a function for traversal\n",
    "def traverseArray(array):\n",
    "    for i in array:\n",
    "        print(i)"
   ]
  },
  {
   "cell_type": "code",
   "execution_count": 9,
   "metadata": {},
   "outputs": [
    {
     "name": "stdout",
     "output_type": "stream",
     "text": [
      "index doesnt exist. There are only 5 elements in the array\n"
     ]
    },
    {
     "data": {
      "text/plain": [
       "'\\nTime and Space Complexity = O(1) Since we only look the element whose index is mentioned and we dont need any extra space for that\\n'"
      ]
     },
     "execution_count": 9,
     "metadata": {},
     "output_type": "execute_result"
    }
   ],
   "source": [
    "### to access an element\n",
    "def accessElement(array, index):\n",
    "    if index >= len(my_array):\n",
    "        print(f'index doesnt exist. There are only {len(my_array)} elements in the array')\n",
    "    else:\n",
    "        print(f'The element at index {index} is {array[index]}')\n",
    "\n",
    "accessElement(my_array, 5)\n",
    "\n",
    "'''\n",
    "Time and Space Complexity = O(1) Since we only look the element whose index is mentioned and we dont need any extra space for that\n",
    "'''"
   ]
  },
  {
   "cell_type": "code",
   "execution_count": 10,
   "metadata": {},
   "outputs": [
    {
     "data": {
      "text/plain": [
       "5"
      ]
     },
     "execution_count": 10,
     "metadata": {},
     "output_type": "execute_result"
    }
   ],
   "source": [
    "len(my_array)"
   ]
  },
  {
   "cell_type": "code",
   "execution_count": 11,
   "metadata": {},
   "outputs": [
    {
     "data": {
      "text/plain": [
       "array('i', [1, 6, 2, 3, 4])"
      ]
     },
     "execution_count": 11,
     "metadata": {},
     "output_type": "execute_result"
    }
   ],
   "source": [
    "my_array"
   ]
  },
  {
   "cell_type": "markdown",
   "metadata": {},
   "source": [
    "## Searching in Array\n",
    " - Linear Search"
   ]
  },
  {
   "cell_type": "code",
   "execution_count": 12,
   "metadata": {},
   "outputs": [
    {
     "name": "stdout",
     "output_type": "stream",
     "text": [
      "not found\n"
     ]
    },
    {
     "data": {
      "text/plain": [
       "'\\nTime complexity = O(N)\\nSpace complexity = O(1)\\n'"
      ]
     },
     "execution_count": 12,
     "metadata": {},
     "output_type": "execute_result"
    }
   ],
   "source": [
    "my_array = array.array('i', [1,2,3,4,5])\n",
    "\n",
    "def searchElement(array, to_find):\n",
    "    for i in range(len(array)):\n",
    "        if array[i] == to_find:\n",
    "            print('found')\n",
    "            break\n",
    "    print('not found')\n",
    "    # return -1\n",
    "\n",
    "    \n",
    "searchElement(my_array, 10)\n",
    "\n",
    "'''\n",
    "Time complexity = O(N)\n",
    "Space complexity = O(1)\n",
    "'''"
   ]
  },
  {
   "cell_type": "markdown",
   "metadata": {},
   "source": [
    "## Deletion in Arrays\n",
    "Time Complexity = O(N)\n",
    "Space = O(1)"
   ]
  },
  {
   "cell_type": "code",
   "execution_count": 56,
   "metadata": {},
   "outputs": [
    {
     "data": {
      "text/plain": [
       "array('i', [1, 2, 3, 5])"
      ]
     },
     "execution_count": 56,
     "metadata": {},
     "output_type": "execute_result"
    }
   ],
   "source": [
    "my_array = array.array('i', [1,2,3,4,5])\n",
    "my_array.remove(4)\n",
    "my_array"
   ]
  },
  {
   "cell_type": "markdown",
   "metadata": {},
   "source": [
    "# Time Complexities of all operations in 1D Array\n",
    "<img width = 1000 src = 'time-complexities-1D-array.png'/>"
   ]
  },
  {
   "cell_type": "markdown",
   "metadata": {},
   "source": [
    "# 2-D Arrays\n",
    "## Creating a 2-D array"
   ]
  },
  {
   "cell_type": "code",
   "execution_count": 1,
   "metadata": {},
   "outputs": [
    {
     "name": "stdout",
     "output_type": "stream",
     "text": [
      "[[ 1  2  3  4]\n",
      " [ 5  6  7  8]\n",
      " [ 9 10 11 12]\n",
      " [13 14 15 16]]\n"
     ]
    }
   ],
   "source": [
    "import numpy as np\n",
    "twoDArray = np.array([[1,2,3,4],\n",
    "                      [5,6,7,8],\n",
    "                      [9,10,11,12],\n",
    "                      [13,14,15,16]])\n",
    "\n",
    "print(twoDArray)\n",
    "'''\n",
    "time complexity & space Complexity = O(mn) --------- m = no. of rows, n= no. of columns\n",
    "'''"
   ]
  },
  {
   "cell_type": "markdown",
   "metadata": {},
   "source": [
    "## Insertion - Two Dimensional array\n",
    "Two ways - \n",
    "- Adding Column `axis = 1`\n",
    "- Adding Row `axis = 0`\n",
    "\n",
    "<img width = 1000 src = '2D-array-insertion-columns.png'/>\n",
    "<img width = 1000 src = '2D-array-insertion-rows.png'/>"
   ]
  },
  {
   "cell_type": "code",
   "execution_count": 6,
   "metadata": {},
   "outputs": [
    {
     "name": "stdout",
     "output_type": "stream",
     "text": [
      "[[12 23 34 45]\n",
      " [56 67 78 89]\n",
      " [90  9 98 87]\n",
      " [76 65 54 43]]\n",
      "[[ 1 12 23 34 45]\n",
      " [ 2 56 67 78 89]\n",
      " [ 3 90  9 98 87]\n",
      " [ 4 76 65 54 43]]\n"
     ]
    }
   ],
   "source": [
    "twoDArray1 = np.array([[12,23,34,45],\n",
    "                       [56,67,78,89],\n",
    "                       [90,9,98,87],\n",
    "                       [76,65,54,43]])\n",
    "\n",
    "print(twoDArray1)\n",
    "\n",
    "new_twodDArray1 = np.insert(twoDArray1, 0, [[1,2,3,4]], axis=1) # updates as column\n",
    "# new_twodDArray1 = np.insert(twoDArray1, 0, [[11,22,33,44]], axis=0) # update as row\n",
    "print(new_twodDArray1)\n"
   ]
  },
  {
   "cell_type": "markdown",
   "metadata": {},
   "source": [
    "Using `np.insert()`, we can specify which column no. or which row no. we want to insert.\n",
    "\n",
    "`np.insert(array name to insert in, row/column no. , array to insert, axis - whether column or row)`\n",
    "\n",
    "<br>\n",
    "\n",
    "If we know that we want to insert an element at the very end of a colummn or a row. The we use the `append()` method"
   ]
  },
  {
   "cell_type": "code",
   "execution_count": 8,
   "metadata": {},
   "outputs": [],
   "source": [
    "new_twodDArray2 = np.append(twoDArray1, [[11,22,33,44]], axis=0)\n",
    "new_twodDArray2"
   ]
  },
  {
   "cell_type": "markdown",
   "metadata": {},
   "source": [
    "## Accessing an element in 2D Array\n",
    "\n",
    "How to determine the no. of rows and no. of columns in a 2-D Array?\n",
    "\n",
    "no. of rows = len(array)\n",
    "\n",
    "no. of columns = len(array[0]) ------ basically the length of first row"
   ]
  },
  {
   "cell_type": "code",
   "execution_count": 11,
   "metadata": {},
   "outputs": [
    {
     "data": {
      "text/plain": [
       "array([[12, 23, 34, 45],\n",
       "       [56, 67, 78, 89],\n",
       "       [90,  9, 98, 87],\n",
       "       [76, 65, 54, 43]])"
      ]
     },
     "execution_count": 11,
     "metadata": {},
     "output_type": "execute_result"
    }
   ],
   "source": [
    "twoDArray1"
   ]
  },
  {
   "cell_type": "code",
   "execution_count": 14,
   "metadata": {},
   "outputs": [
    {
     "name": "stdout",
     "output_type": "stream",
     "text": [
      "67\n"
     ]
    }
   ],
   "source": [
    "def accessElements(array, rowIndex, colIndex):\n",
    "    if rowIndex >= len(array) or colIndex >= len(array[0]):\n",
    "        print(f'Index out of range. There are {len(array)} rows and {len(array)[0]} columns')\n",
    "    else: \n",
    "        print(array[rowIndex][colIndex])\n",
    "\n",
    "accessElements(twoDArray1, 1,1)\n",
    "\n",
    "'''\n",
    "Time and Space Complexity = O(1)\n",
    "'''"
   ]
  },
  {
   "cell_type": "markdown",
   "metadata": {},
   "source": [
    "## Array Traversal in 2D Arrays"
   ]
  },
  {
   "cell_type": "code",
   "execution_count": 15,
   "metadata": {},
   "outputs": [
    {
     "data": {
      "text/plain": [
       "array([[12, 23, 34, 45],\n",
       "       [56, 67, 78, 89],\n",
       "       [90,  9, 98, 87],\n",
       "       [76, 65, 54, 43]])"
      ]
     },
     "execution_count": 15,
     "metadata": {},
     "output_type": "execute_result"
    }
   ],
   "source": [
    "twoDArray1"
   ]
  },
  {
   "cell_type": "code",
   "execution_count": 20,
   "metadata": {},
   "outputs": [
    {
     "name": "stdout",
     "output_type": "stream",
     "text": [
      "12 23 34 45 \n",
      "\n",
      "56 67 78 89 \n",
      "\n",
      "90 9 98 87 \n",
      "\n",
      "76 65 54 43 \n",
      "\n"
     ]
    },
    {
     "data": {
      "text/plain": [
       "'\\nTime Complexity = O(mn)             m = # of rows, n = # of cols\\nSpace Complexity = O(1)\\n'"
      ]
     },
     "execution_count": 20,
     "metadata": {},
     "output_type": "execute_result"
    }
   ],
   "source": [
    "def traversal2DArray(array):\n",
    "    for i in range(0,len(array)):\n",
    "        for j in range(0,len(array[0])):\n",
    "            print(array[i][j], end=' ')\n",
    "        print('\\n')\n",
    "\n",
    "traversal2DArray(twoDArray1)\n",
    "\n",
    "'''\n",
    "Time Complexity = O(mn)             m = # of rows, n = # of cols\n",
    "Space Complexity = O(1)\n",
    "'''"
   ]
  },
  {
   "cell_type": "markdown",
   "metadata": {},
   "source": [
    "## Searching in 2D Array"
   ]
  },
  {
   "cell_type": "code",
   "execution_count": 21,
   "metadata": {},
   "outputs": [
    {
     "data": {
      "text/plain": [
       "array([[12, 23, 34, 45],\n",
       "       [56, 67, 78, 89],\n",
       "       [90,  9, 98, 87],\n",
       "       [76, 65, 54, 43]])"
      ]
     },
     "execution_count": 21,
     "metadata": {},
     "output_type": "execute_result"
    }
   ],
   "source": [
    "twoDArray1"
   ]
  },
  {
   "cell_type": "code",
   "execution_count": 28,
   "metadata": {},
   "outputs": [
    {
     "name": "stdout",
     "output_type": "stream",
     "text": [
      "Element found!\n"
     ]
    },
    {
     "data": {
      "text/plain": [
       "1"
      ]
     },
     "execution_count": 28,
     "metadata": {},
     "output_type": "execute_result"
    }
   ],
   "source": [
    "def searchElement2DArray(array, to_find):\n",
    "    for i in range(len(array)):\n",
    "        for j in range(len(array[0])):\n",
    "            if array[i][j] == to_find:\n",
    "                print('Element found!')\n",
    "                return 1\n",
    "            \n",
    "    return -1\n",
    "    \n",
    "       \n",
    "\n",
    "searchElement2DArray(twoDArray1, 43)\n",
    "\n",
    "'''\n",
    "Time Complexity = O(mn)\n",
    "Space complexity = O(1)\n",
    "'''"
   ]
  },
  {
   "cell_type": "markdown",
   "metadata": {},
   "source": [
    "## Deletion in 2D Arrays\n",
    "What exactly happens in deletion?\n",
    "\n",
    "The python program basically creates a new variable and stores the elements of the existing array other than the deleted elements\n",
    "<img width = 1000 src = 'deletion-2D-arrays.png'/>\n"
   ]
  },
  {
   "cell_type": "code",
   "execution_count": 29,
   "metadata": {},
   "outputs": [
    {
     "name": "stdout",
     "output_type": "stream",
     "text": [
      "[[56 67 78 89]\n",
      " [90  9 98 87]\n",
      " [76 65 54 43]]\n"
     ]
    }
   ],
   "source": [
    "new_deleted_array = np.delete(twoDArray1, 0, axis=0)\n",
    "print(new_deleted_array)\n",
    "\n",
    "'''\n",
    "Time Complexity = O(mn) - because you need to copy all the elements from the existing array to a new array\n",
    "Space Complexity = O(mn) - because we are creating a new variable in the memory\n",
    "'''"
   ]
  },
  {
   "cell_type": "markdown",
   "metadata": {},
   "source": [
    "<img width = 1000 src = 'time-and-space-complexity-2D-arrays.png'/>\n",
    "\n",
    "<img src = 'use-or-avoid-arrays.png'/>"
   ]
  }
 ],
 "metadata": {
  "kernelspec": {
   "display_name": "Python 3",
   "language": "python",
   "name": "python3"
  },
  "language_info": {
   "codemirror_mode": {
    "name": "ipython",
    "version": 3
   },
   "file_extension": ".py",
   "mimetype": "text/x-python",
   "name": "python",
   "nbconvert_exporter": "python",
   "pygments_lexer": "ipython3",
   "version": "3.9.5"
  },
  "orig_nbformat": 4
 },
 "nbformat": 4,
 "nbformat_minor": 2
}
