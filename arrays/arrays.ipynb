{
 "cells": [
  {
   "cell_type": "markdown",
   "metadata": {},
   "source": [
    "# Arrays\n",
    "Arrays are a collection of elements of the same datatype\n",
    "\n",
    "<img width = 1000 src = 'arrays-as-macrons.png'/>\n",
    "\n",
    "## Types of Arrays\n",
    "<img width = 1000 src = 'types-of-arrays.png'/>\n",
    "\n",
    "## Arrays in Memory\n",
    "<img width = 1000 src = 'arrays-in-1D.png'/>\n",
    "\n",
    "<img width = 1000 src = 'arrays-in-2D.png'/>\n",
    "\n",
    "<img width = 1000 src = 'arrays-in-3D.png'/>"
   ]
  },
  {
   "cell_type": "markdown",
   "metadata": {},
   "source": [
    "## Initialising an array\n",
    "1. Using Array model\n",
    "2. Using Numpy model"
   ]
  },
  {
   "cell_type": "code",
   "execution_count": 3,
   "metadata": {},
   "outputs": [],
   "source": [
    "import array\n",
    "my_array = array.array('i') # i stands for integer\n",
    "my_array\n",
    "# we've initialised an empty array, Time & Space Complexity = O(1)"
   ]
  },
  {
   "cell_type": "code",
   "execution_count": 5,
   "metadata": {},
   "outputs": [
    {
     "data": {
      "text/plain": [
       "array('i', [1, 2, 3, 4, 5, 6, 67, 7, 8, 9, 10])"
      ]
     },
     "execution_count": 5,
     "metadata": {},
     "output_type": "execute_result"
    }
   ],
   "source": [
    "my_array1 = array.array('i', [1,2,3,4,5,6,67,7,8,9,10])\n",
    "my_array1\n",
    "# for an array of size 'n' , Time & Space Complexity = O(n)"
   ]
  },
  {
   "cell_type": "code",
   "execution_count": 7,
   "metadata": {},
   "outputs": [
    {
     "data": {
      "text/plain": [
       "array([], dtype=int32)"
      ]
     },
     "execution_count": 7,
     "metadata": {},
     "output_type": "execute_result"
    }
   ],
   "source": [
    "import numpy as np\n",
    "np_array = np.array([], dtype=int)\n",
    "np_array\n",
    "# we've initialised an empty array, Time & Space Complexity = O(1)"
   ]
  },
  {
   "cell_type": "code",
   "execution_count": 8,
   "metadata": {},
   "outputs": [
    {
     "data": {
      "text/plain": [
       "[1, 2, 3, 4, 5, 6, 7, 8, 9]"
      ]
     },
     "execution_count": 8,
     "metadata": {},
     "output_type": "execute_result"
    }
   ],
   "source": [
    "np_array1 = [1,2,3,4,5,6,7,8,9]\n",
    "np_array1\n",
    "# for an array of size 'n' , Time & Space Complexity = O(n)"
   ]
  },
  {
   "cell_type": "markdown",
   "metadata": {},
   "source": [
    "## Inserting an element\n",
    "We have the option to insert an element either in the front, back or the middle of the array"
   ]
  },
  {
   "cell_type": "code",
   "execution_count": 17,
   "metadata": {},
   "outputs": [
    {
     "name": "stdout",
     "output_type": "stream",
     "text": [
      "array('i', [1, 2, 3, 4])\n"
     ]
    },
    {
     "data": {
      "text/plain": [
       "array('i', [1, 6, 2, 3, 4])"
      ]
     },
     "execution_count": 17,
     "metadata": {},
     "output_type": "execute_result"
    }
   ],
   "source": [
    "my_array = array.array('i', [1,2,3,4])\n",
    "print(my_array)\n",
    "\n",
    "# inserting\n",
    "my_array.insert(1, 6)       # (index, value)\n",
    "my_array\n",
    "'''\n",
    "as we can see when we insert any element the existing elements after the index to which the value is inserted have to shift right. So the time complexity depends upon THE NO. OF ELEMENTS SHIFTING RIGHT. \n",
    "So, in the worst case - when we have to insert an element in the beginning the complexity will be O(N)\n",
    "Space Complexity = O(1) -- because when we are inserting an element in an array, we only need one place for the element\n",
    "'''"
   ]
  },
  {
   "cell_type": "code",
   "execution_count": 21,
   "metadata": {},
   "outputs": [
    {
     "data": {
      "text/plain": [
       "array('i', [1, 6, 2, 3, 4])"
      ]
     },
     "execution_count": 21,
     "metadata": {},
     "output_type": "execute_result"
    }
   ],
   "source": [
    "my_array"
   ]
  },
  {
   "cell_type": "markdown",
   "metadata": {},
   "source": [
    "## Traversing and accessing an element"
   ]
  },
  {
   "cell_type": "code",
   "execution_count": 31,
   "metadata": {},
   "outputs": [
    {
     "name": "stdout",
     "output_type": "stream",
     "text": [
      "1\n",
      "6\n",
      "2\n",
      "3\n",
      "4\n",
      "\n",
      "\n",
      "If printed with index\n",
      "1 at index 0\n",
      "6 at index 1\n",
      "2 at index 2\n",
      "3 at index 3\n",
      "4 at index 4\n"
     ]
    }
   ],
   "source": [
    "# function -1 for traversal (preferred)\n",
    "for i in my_array:\n",
    "    print(i)\n",
    "\n",
    "print('\\n\\nIf printed with index')\n",
    "# function-2 for traversal\n",
    "for i in range(0, len(my_array)):\n",
    "    print(f'{my_array[i]} at index {i}')\n",
    "\n",
    "'''\n",
    "Time Complexity = O(N)\n",
    "Space Complexity = O(1) because we dont need an extra location\n",
    "'''\n",
    "\n",
    "\n",
    "### writing a function for traversal\n",
    "def traverseArray(array):\n",
    "    for i in array:\n",
    "        print(i)"
   ]
  },
  {
   "cell_type": "code",
   "execution_count": 41,
   "metadata": {},
   "outputs": [
    {
     "name": "stdout",
     "output_type": "stream",
     "text": [
      "index doesnt exist. There are only 5 elements in the array\n"
     ]
    }
   ],
   "source": [
    "### to access an element\n",
    "def accessElement(array, index):\n",
    "    if index >= len(my_array):\n",
    "        print(f'index doesnt exist. There are only {len(my_array)} elements in the array')\n",
    "    else:\n",
    "        print(f'The element at index {index} is {array[index]}')\n",
    "\n",
    "accessElement(my_array, 5)\n",
    "\n",
    "'''\n",
    "Time and Space Complexity = O(1) Since we only look the element whose index is mentioned and we dont need any extra space for that\n",
    "'''"
   ]
  },
  {
   "cell_type": "code",
   "execution_count": 38,
   "metadata": {},
   "outputs": [
    {
     "data": {
      "text/plain": [
       "5"
      ]
     },
     "execution_count": 38,
     "metadata": {},
     "output_type": "execute_result"
    }
   ],
   "source": [
    "len(my_array)"
   ]
  },
  {
   "cell_type": "code",
   "execution_count": 49,
   "metadata": {},
   "outputs": [
    {
     "data": {
      "text/plain": [
       "array('i', [1, 6, 2, 3, 4])"
      ]
     },
     "execution_count": 49,
     "metadata": {},
     "output_type": "execute_result"
    }
   ],
   "source": [
    "my_array"
   ]
  },
  {
   "cell_type": "markdown",
   "metadata": {},
   "source": [
    "## Searching in Array\n",
    " - Linear Search"
   ]
  },
  {
   "cell_type": "code",
   "execution_count": 53,
   "metadata": {},
   "outputs": [
    {
     "name": "stdout",
     "output_type": "stream",
     "text": [
      "not found\n"
     ]
    },
    {
     "data": {
      "text/plain": [
       "-1"
      ]
     },
     "execution_count": 53,
     "metadata": {},
     "output_type": "execute_result"
    }
   ],
   "source": [
    "my_array = array.array('i', [1,2,3,4,5])\n",
    "\n",
    "def searchElement(array, to_find):\n",
    "    for i in range(len(array)):\n",
    "        if array[i] == to_find:\n",
    "            print('found')\n",
    "            break\n",
    "    print('not found')\n",
    "    return -1\n",
    "\n",
    "searchElement(my_array, 10)\n",
    "\n",
    "'''\n",
    "Time complexity = O(N)\n",
    "Space complexity = O(1)\n",
    "'''"
   ]
  },
  {
   "cell_type": "markdown",
   "metadata": {},
   "source": [
    "## Deletion in Arrays\n",
    "Time Complexity = O(N)\n",
    "Space = O(1)"
   ]
  },
  {
   "cell_type": "code",
   "execution_count": 56,
   "metadata": {},
   "outputs": [
    {
     "data": {
      "text/plain": [
       "array('i', [1, 2, 3, 5])"
      ]
     },
     "execution_count": 56,
     "metadata": {},
     "output_type": "execute_result"
    }
   ],
   "source": [
    "my_array = array.array('i', [1,2,3,4,5])\n",
    "my_array.remove(4)\n",
    "my_array"
   ]
  },
  {
   "cell_type": "code",
   "execution_count": null,
   "metadata": {},
   "outputs": [],
   "source": []
  }
 ],
 "metadata": {
  "kernelspec": {
   "display_name": "Python 3",
   "language": "python",
   "name": "python3"
  },
  "language_info": {
   "codemirror_mode": {
    "name": "ipython",
    "version": 3
   },
   "file_extension": ".py",
   "mimetype": "text/x-python",
   "name": "python",
   "nbconvert_exporter": "python",
   "pygments_lexer": "ipython3",
   "version": "3.9.5"
  },
  "orig_nbformat": 4
 },
 "nbformat": 4,
 "nbformat_minor": 2
}
