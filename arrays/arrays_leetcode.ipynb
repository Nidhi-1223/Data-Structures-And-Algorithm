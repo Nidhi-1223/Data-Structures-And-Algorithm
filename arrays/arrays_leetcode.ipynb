{
 "cells": [
  {
   "cell_type": "markdown",
   "metadata": {},
   "source": [
    "# Arrays - Leetcode Questions\n",
    "\n",
    "## 344. How to reverse an array\n",
    "\n",
    "1. Reverse a string in the form of array\n",
    "[Leetcode - 344](https://leetcode.com/problems/reverse-string/description/)\n",
    "\n",
    "Example 1:\n",
    "\n",
    "Input: s = [\"h\",\"e\",\"l\",\"l\",\"o\"]\n",
    "\n",
    "Output: [\"o\",\"l\",\"l\",\"e\",\"h\"]\n",
    "\n",
    "Example 2:\n",
    "\n",
    "Input: s = [\"H\",\"a\",\"n\",\"n\",\"a\",\"h\"]\n",
    "\n",
    "Output: [\"h\",\"a\",\"n\",\"n\",\"a\",\"H\"]"
   ]
  },
  {
   "cell_type": "code",
   "execution_count": null,
   "metadata": {},
   "outputs": [],
   "source": [
    "class Solution:\n",
    "    def reverseString(self, s: [str]) -> None:\n",
    "        \"\"\"\n",
    "        Do not return anything, modify s in-place instead.\n",
    "        \"\"\"\n",
    "        ## Method 1\n",
    "        # s.reverse()\n",
    "\n",
    "        # Method 2 - O(1)\n",
    "        l, r = 0, len(s)-1\n",
    "        while l<r:\n",
    "            s[l], s[r] = s[r], s[l]\n",
    "            l +=1\n",
    "            r -=1\n",
    "\n",
    "        # # Method 3 - using a stack\n",
    "        # stack = []\n",
    "        # for i in s:\n",
    "        #     stack.append(i)\n",
    "        # i = 0\n",
    "        # while stack:\n",
    "        #     s[i] = stack.pop()\n",
    "        #     i+=1\n",
    "        \n",
    "        # # Method 4 - using recursion\n",
    "        # l, r = 0, len(s) - 1\n",
    "        # def reverse(l,r):\n",
    "        #     if l<r:\n",
    "        #         s[l], s[r] = s[r], s[l]\n",
    "        #         reverse(l+1, r-1)\n",
    "        # reverse(l,r)"
   ]
  },
  {
   "cell_type": "markdown",
   "metadata": {},
   "source": [
    "### Leetcode 26  - Remove duplicates from sorted array\n",
    "\n",
    "Given an integer array nums sorted in non-decreasing order, remove the duplicates in-place such that each unique element appears only once. The relative order of the elements should be kept the same. Then return the number of unique elements in nums.\n",
    "\n",
    "Consider the number of unique elements of nums to be k, to get accepted, you need to do the following things:\n",
    "\n",
    "Change the array nums such that the first k elements of nums contain the unique elements in the order they were present in nums initially. The remaining elements of nums are not important as well as the size of nums.\n",
    "Return k."
   ]
  },
  {
   "cell_type": "code",
   "execution_count": 42,
   "metadata": {},
   "outputs": [
    {
     "name": "stdout",
     "output_type": "stream",
     "text": [
      "[1, 1, 2]\n",
      "[2, 1]\n",
      "[1, 2]\n",
      "<class 'list'>\n"
     ]
    }
   ],
   "source": [
    "## Naive Approach -- COMPLETELY WRONG\n",
    "\n",
    "nums = [1,1,2]\n",
    "stack = []\n",
    "res = []\n",
    "for i in range(len(nums)):\n",
    "    stack.append(nums[i])\n",
    "print(stack)\n",
    "\n",
    "for i in range(0,len(stack)):\n",
    "    temp = stack.pop()\n",
    "    if temp not in res: \n",
    "        res.append(temp)\n",
    "        \n",
    "    # print(res)\n",
    "nums = res[::-1]    \n",
    "\n",
    "print(res) \n",
    "print(nums)\n",
    "print(type(nums))"
   ]
  },
  {
   "cell_type": "code",
   "execution_count": 53,
   "metadata": {},
   "outputs": [
    {
     "name": "stdout",
     "output_type": "stream",
     "text": [
      "5\n",
      "[0, 1, 2, 3, 4, 2, 2, 3, 3, 4]\n"
     ]
    }
   ],
   "source": [
    "# final solution \n",
    "\n",
    "nums = [0,0,1,1,1,2,2,3,3,4]\n",
    "l,r = 1,1\n",
    "for r in range(1,len(nums)):\n",
    "    if nums[r-1] != nums[r]:\n",
    "        nums[l] = nums[r]\n",
    "        l+=1\n",
    "print(l)\n",
    "print(nums)"
   ]
  },
  {
   "cell_type": "markdown",
   "metadata": {},
   "source": [
    "### 1. Two Sum\n",
    "Given an array of integers nums and an integer target, return indices of the two numbers such that they add up to target.\n",
    "\n",
    "You may assume that each input would have exactly one solution, and you may not use the same element twice.\n",
    "\n",
    "You can return the answer in any order.\n",
    "\n",
    " \n",
    "\n",
    "Example 1:\n",
    "\n",
    "Input: nums = [2,7,11,15], target = 9\n",
    "Output: [0,1]\n",
    "Explanation: Because nums[0] + nums[1] == 9, we return [0, 1].\n",
    "Example 2:\n",
    "\n",
    "Input: nums = [3,2,4], target = 6\n",
    "Output: [1,2]\n",
    "Example 3:\n",
    "\n",
    "Input: nums = [3,3], target = 6\n",
    "Output: [0,1]"
   ]
  },
  {
   "cell_type": "code",
   "execution_count": 71,
   "metadata": {},
   "outputs": [
    {
     "name": "stdout",
     "output_type": "stream",
     "text": [
      "7\n",
      "[]\n"
     ]
    }
   ],
   "source": [
    "# brute force\n",
    "nums = [3,2,4]\n",
    "sum = 0\n",
    "target = 9\n",
    "result_ls = []\n",
    "for i in range(len(nums)):\n",
    "    for j in range(i, len(nums)):\n",
    "        if i != j:\n",
    "            sum = nums[i]+nums[j]\n",
    "            if sum == target:\n",
    "                result_ls.append(i)\n",
    "                result_ls.append(j)\n",
    "                break\n",
    "              \n",
    "# print(nums[i])\n",
    "# print(nums[j])\n",
    "print(sum)\n",
    "print(result_ls[:2])\n",
    "        \n"
   ]
  },
  {
   "cell_type": "code",
   "execution_count": null,
   "metadata": {},
   "outputs": [],
   "source": [
    "# using hashmap\n",
    "prevMap = {} # val: index\n",
    "for index, value in enumerate(nums):\n",
    "    diff = target - value\n",
    "    if diff in prevMap:\n",
    "        print([prevMap[diff], index])\n",
    "    prevMap[value] = index"
   ]
  }
 ],
 "metadata": {
  "kernelspec": {
   "display_name": "Python 3",
   "language": "python",
   "name": "python3"
  },
  "language_info": {
   "codemirror_mode": {
    "name": "ipython",
    "version": 3
   },
   "file_extension": ".py",
   "mimetype": "text/x-python",
   "name": "python",
   "nbconvert_exporter": "python",
   "pygments_lexer": "ipython3",
   "version": "3.9.5"
  },
  "orig_nbformat": 4
 },
 "nbformat": 4,
 "nbformat_minor": 2
}
