{
 "cells": [
  {
   "cell_type": "markdown",
   "metadata": {},
   "source": [
    "# Arrays - Leetcode Questions\n",
    "\n",
    "### 344. How to reverse an array\n",
    "\n",
    "1. Reverse a string in the form of array\n",
    "[Leetcode - 344](https://leetcode.com/problems/reverse-string/description/)\n",
    "\n",
    "Example 1:\n",
    "\n",
    "Input: s = [\"h\",\"e\",\"l\",\"l\",\"o\"]\n",
    "\n",
    "Output: [\"o\",\"l\",\"l\",\"e\",\"h\"]\n",
    "\n",
    "Example 2:\n",
    "\n",
    "Input: s = [\"H\",\"a\",\"n\",\"n\",\"a\",\"h\"]\n",
    "\n",
    "Output: [\"h\",\"a\",\"n\",\"n\",\"a\",\"H\"]"
   ]
  },
  {
   "cell_type": "code",
   "execution_count": null,
   "metadata": {},
   "outputs": [],
   "source": [
    "class Solution:\n",
    "    def reverseString(self, s: [str]) -> None:\n",
    "        \"\"\"\n",
    "        Do not return anything, modify s in-place instead.\n",
    "        \"\"\"\n",
    "        ## Method 1\n",
    "        # s.reverse()\n",
    "\n",
    "        # Method 2 - O(1)\n",
    "        l, r = 0, len(s)-1\n",
    "        while l<r:\n",
    "            s[l], s[r] = s[r], s[l]\n",
    "            l +=1\n",
    "            r -=1\n",
    "\n",
    "        # # Method 3 - using a stack\n",
    "        # stack = []\n",
    "        # for i in s:\n",
    "        #     stack.append(i)\n",
    "        # i = 0\n",
    "        # while stack:\n",
    "        #     s[i] = stack.pop()\n",
    "        #     i+=1\n",
    "        \n",
    "        # # Method 4 - using recursion\n",
    "        # l, r = 0, len(s) - 1\n",
    "        # def reverse(l,r):\n",
    "        #     if l<r:\n",
    "        #         s[l], s[r] = s[r], s[l]\n",
    "        #         reverse(l+1, r-1)\n",
    "        # reverse(l,r)"
   ]
  },
  {
   "cell_type": "markdown",
   "metadata": {},
   "source": [
    "### Leetcode 26  - Remove duplicates from sorted array\n",
    "\n",
    "Given an integer array nums sorted in non-decreasing order, remove the duplicates in-place such that each unique element appears only once. The relative order of the elements should be kept the same. Then return the number of unique elements in nums.\n",
    "\n",
    "Consider the number of unique elements of nums to be k, to get accepted, you need to do the following things:\n",
    "\n",
    "Change the array nums such that the first k elements of nums contain the unique elements in the order they were present in nums initially. The remaining elements of nums are not important as well as the size of nums.\n",
    "Return k."
   ]
  },
  {
   "cell_type": "code",
   "execution_count": 42,
   "metadata": {},
   "outputs": [
    {
     "name": "stdout",
     "output_type": "stream",
     "text": [
      "[1, 1, 2]\n",
      "[2, 1]\n",
      "[1, 2]\n",
      "<class 'list'>\n"
     ]
    }
   ],
   "source": [
    "## Naive Approach -- COMPLETELY WRONG\n",
    "\n",
    "nums = [1,1,2]\n",
    "stack = []\n",
    "res = []\n",
    "for i in range(len(nums)):\n",
    "    stack.append(nums[i])\n",
    "print(stack)\n",
    "\n",
    "for i in range(0,len(stack)):\n",
    "    temp = stack.pop()\n",
    "    if temp not in res: \n",
    "        res.append(temp)\n",
    "        \n",
    "    # print(res)\n",
    "nums = res[::-1]    \n",
    "\n",
    "print(res) \n",
    "print(nums)\n",
    "print(type(nums))"
   ]
  },
  {
   "cell_type": "code",
   "execution_count": 53,
   "metadata": {},
   "outputs": [
    {
     "name": "stdout",
     "output_type": "stream",
     "text": [
      "5\n",
      "[0, 1, 2, 3, 4, 2, 2, 3, 3, 4]\n"
     ]
    }
   ],
   "source": [
    "# final solution \n",
    "\n",
    "nums = [0,0,1,1,1,2,2,3,3,4]\n",
    "l,r = 1,1\n",
    "for r in range(1,len(nums)):\n",
    "    if nums[r-1] != nums[r]:\n",
    "        nums[l] = nums[r]\n",
    "        l+=1\n",
    "print(l)\n",
    "print(nums)"
   ]
  },
  {
   "cell_type": "markdown",
   "metadata": {},
   "source": [
    "### 1. Two Sum\n",
    "Given an array of integers nums and an integer target, return indices of the two numbers such that they add up to target.\n",
    "\n",
    "You may assume that each input would have exactly one solution, and you may not use the same element twice.\n",
    "\n",
    "You can return the answer in any order.\n",
    "\n",
    " \n",
    "\n",
    "Example 1:\n",
    "\n",
    "Input: nums = [2,7,11,15], target = 9\n",
    "Output: [0,1]\n",
    "Explanation: Because nums[0] + nums[1] == 9, we return [0, 1].\n",
    "Example 2:\n",
    "\n",
    "Input: nums = [3,2,4], target = 6\n",
    "Output: [1,2]\n",
    "Example 3:\n",
    "\n",
    "Input: nums = [3,3], target = 6\n",
    "Output: [0,1]"
   ]
  },
  {
   "cell_type": "code",
   "execution_count": 71,
   "metadata": {},
   "outputs": [
    {
     "name": "stdout",
     "output_type": "stream",
     "text": [
      "7\n",
      "[]\n"
     ]
    }
   ],
   "source": [
    "# brute force\n",
    "nums = [3,2,4]\n",
    "sum = 0\n",
    "target = 9\n",
    "result_ls = []\n",
    "for i in range(len(nums)):\n",
    "    for j in range(i, len(nums)):\n",
    "        if i != j:\n",
    "            sum = nums[i]+nums[j]\n",
    "            if sum == target:\n",
    "                result_ls.append(i)\n",
    "                result_ls.append(j)\n",
    "                break\n",
    "              \n",
    "# print(nums[i])\n",
    "# print(nums[j])\n",
    "print(sum)\n",
    "print(result_ls[:2])\n",
    "        \n"
   ]
  },
  {
   "cell_type": "code",
   "execution_count": null,
   "metadata": {},
   "outputs": [],
   "source": [
    "# using hashmap\n",
    "prevMap = {} # val: index\n",
    "for index, value in enumerate(nums):\n",
    "    diff = target - value\n",
    "    if diff in prevMap:\n",
    "        print([prevMap[diff], index])\n",
    "    prevMap[value] = index"
   ]
  },
  {
   "cell_type": "markdown",
   "metadata": {},
   "source": [
    "### Two Sum II - Input array is sorted\n",
    "Given a 1-indexed array of integers numbers that is already sorted in non-decreasing order, find two numbers such that they add up to a specific target number. Let these two numbers be numbers[index1] and numbers[index2] where 1 <= index1 < index2 < numbers.length.\n",
    "\n",
    "Return the indices of the two numbers, index1 and index2, added by one as an integer array [index1, index2] of length 2.\n",
    "\n",
    "The tests are generated such that there is exactly one solution. You may not use the same element twice.\n",
    "\n",
    "Your solution must use only constant extra space.\n",
    "\n",
    " \n",
    "\n",
    "Example 1:\n",
    "\n",
    "Input: numbers = [2,7,11,15], target = 9\n",
    "Output: [1,2]\n",
    "Explanation: The sum of 2 and 7 is 9. Therefore, index1 = 1, index2 = 2. We return [1, 2].\n",
    "Example 2:\n",
    "\n",
    "Input: numbers = [2,3,4], target = 6\n",
    "Output: [1,3]\n",
    "Explanation: The sum of 2 and 4 is 6. Therefore index1 = 1, index2 = 3. We return [1, 3]."
   ]
  },
  {
   "cell_type": "code",
   "execution_count": null,
   "metadata": {},
   "outputs": [],
   "source": [
    "class Solution:\n",
    "    def twoSum(self, numbers: List[int], target: int) -> List[int]:\n",
    "        l,r = 0, len(numbers)-1\n",
    "        while l<r:\n",
    "            currSum = numbers[l] + numbers[r]\n",
    "\n",
    "            if currSum > target:\n",
    "                r-= 1\n",
    "            elif currSum < target:\n",
    "                l+=1\n",
    "            else :\n",
    "                return [l+1, r+1]\n",
    "\n"
   ]
  },
  {
   "cell_type": "code",
   "execution_count": 9,
   "metadata": {},
   "outputs": [
    {
     "name": "stdout",
     "output_type": "stream",
     "text": [
      "1\n"
     ]
    },
    {
     "ename": "KeyboardInterrupt",
     "evalue": "",
     "output_type": "error",
     "traceback": [
      "\u001b[1;31m---------------------------------------------------------------------------\u001b[0m",
      "\u001b[1;31mKeyboardInterrupt\u001b[0m                         Traceback (most recent call last)",
      "Cell \u001b[1;32mIn[9], line 15\u001b[0m\n\u001b[0;32m     12\u001b[0m a \u001b[39m=\u001b[39m [\u001b[39m1\u001b[39m,\u001b[39m2\u001b[39m,\u001b[39m3\u001b[39m,\u001b[39m2\u001b[39m,\u001b[39m3\u001b[39m,\u001b[39m4\u001b[39m,\u001b[39m6\u001b[39m]\n\u001b[0;32m     13\u001b[0m b \u001b[39m=\u001b[39m [\u001b[39m2\u001b[39m,\u001b[39m3\u001b[39m,\u001b[39m5\u001b[39m]\n\u001b[1;32m---> 15\u001b[0m sortedArray(a,b)\n",
      "Cell \u001b[1;32mIn[9], line 4\u001b[0m, in \u001b[0;36msortedArray\u001b[1;34m(a, b)\u001b[0m\n\u001b[0;32m      2\u001b[0m res \u001b[39m=\u001b[39m []\n\u001b[0;32m      3\u001b[0m i, j \u001b[39m=\u001b[39m \u001b[39m0\u001b[39m,\u001b[39m0\u001b[39m\n\u001b[1;32m----> 4\u001b[0m \u001b[39mwhile\u001b[39;00m i \u001b[39m<\u001b[39m \u001b[39mlen\u001b[39;49m(a):\n\u001b[0;32m      5\u001b[0m     \u001b[39mif\u001b[39;00m i \u001b[39mnot\u001b[39;00m \u001b[39min\u001b[39;00m res:\n\u001b[0;32m      6\u001b[0m         \u001b[39m# if a[i] < b[j]:\u001b[39;00m\n\u001b[0;32m      7\u001b[0m         \u001b[39mprint\u001b[39m(a[i])\n",
      "\u001b[1;31mKeyboardInterrupt\u001b[0m: "
     ]
    }
   ],
   "source": []
  },
  {
   "cell_type": "markdown",
   "metadata": {},
   "source": [
    "### 189. Rotate Array\n",
    "[Reference](https://leetcode.com/problems/rotate-array/description/)\n",
    "\n",
    "Given an integer array nums, rotate the array to the right by k steps, where k is non-negative.\n",
    "\n",
    "Example 1:\n",
    "\n",
    "Input: nums = [1,2,3,4,5,6,7], k = 3\n",
    "Output: [5,6,7,1,2,3,4]\n",
    "\n",
    "Explanation:\n",
    "\n",
    "rotate 1 steps to the right: [7,1,2,3,4,5,6]\n",
    "rotate 2 steps to the right: [6,7,1,2,3,4,5]\n",
    "rotate 3 steps to the right: [5,6,7,1,2,3,4]\n",
    "\n",
    "Example 2:\n",
    "\n",
    "Input: nums = [-1,-100,3,99], k = 2\n",
    "Output: [3,99,-1,-100]\n",
    "\n",
    "Explanation: \n",
    "\n",
    "rotate 1 steps to the right: [99,-1,-100,3]\n",
    "rotate 2 steps to the right: [3,99,-1,-100]\n",
    " "
   ]
  },
  {
   "cell_type": "code",
   "execution_count": null,
   "metadata": {},
   "outputs": [],
   "source": [
    "class Solution:\n",
    "\n",
    "    '''Method 1'''\n",
    "    def rotate(self, nums: List[int], k: int) -> None:\n",
    "        \"\"\"\n",
    "        Do not return anything, modify nums in-place instead.\n",
    "        \"\"\"\n",
    "        res = [0] * len(nums)\n",
    "        for i in range(len(nums)):\n",
    "            if i+k < len(nums):\n",
    "                res[i+k] = nums[i]\n",
    "            else : \n",
    "                res[(i+k)%len(nums)] = nums[i]\n",
    "        \n",
    "        for i in range(len(res)):\n",
    "            nums[i] = res[i]\n",
    "        \n",
    "        \n",
    "\n",
    "\n",
    "    '''Method 2 -- O(1) space complexity - its done inplace''' \n",
    "    # def reverse_arr(self, nums, start, end):\n",
    "    #     while start < end:\n",
    "    #         nums[start], nums[end] = nums[end], nums[start]\n",
    "    #         start += 1\n",
    "    #         end -= 1\n",
    "\n",
    "    # def rotate(self, nums: List[int], k: int) -> None:\n",
    "    #     \"\"\"\n",
    "    #     Do not return anything, modify nums in-place instead.\n",
    "    #     \"\"\"\n",
    "    #     if k > len(nums):\n",
    "    #         k = k%len(nums)\n",
    "    #         # nums.reverse()\n",
    "    #     # else:\n",
    "    #     self.reverse_arr(nums, 0, len(nums) - 1) # entire array\n",
    "\n",
    "    #     self.reverse_arr(nums, 0, k - 1)    # first part\n",
    "    #     self.reverse_arr(nums, k, len(nums) - 1) # second part\n"
   ]
  },
  {
   "cell_type": "markdown",
   "metadata": {},
   "source": [
    "### Left Rotate an Array by One\n",
    "[Coding Ninjas Link](https://www.codingninjas.com/studio/problems/left-rotate-an-array-by-one_5026278?utm_source=striver&utm_medium=website&utm_campaign=a_zcoursetuf&leftPanelTab=0)"
   ]
  },
  {
   "cell_type": "code",
   "execution_count": null,
   "metadata": {},
   "outputs": [],
   "source": [
    "def rotateArray(arr: [], n: int) -> []:\n",
    "    # Write your code from here.\n",
    "    temp = arr[0]\n",
    "    for i in range(n-1):\n",
    "        arr[i] = arr[i+1]\n",
    "    arr[-1] = temp\n",
    "    \n",
    "    return arr"
   ]
  },
  {
   "cell_type": "markdown",
   "metadata": {},
   "source": [
    "### 1752. Check if Array is sorted and rotated\n",
    "[Reference](https://leetcode.com/problems/check-if-array-is-sorted-and-rotated/submissions/)\n",
    "\n",
    "Given an array nums, return true if the array was originally sorted in non-decreasing order, then rotated some number of positions (including zero). Otherwise, return false.\n",
    "\n",
    "There may be duplicates in the original array.\n",
    "\n",
    "Note: An array A rotated by x positions results in an array B of the same length such that A[i] == B[(i+x) % A.length, where % is the modulo operation.\n",
    "\n",
    "Example 1:\n",
    "\n",
    "Input: nums = [3,4,5,1,2]\n",
    "Output: true\n",
    "Explanation: [1,2,3,4,5] is the original sorted array.\n",
    "You can rotate the array by x = 3 positions to begin on the the element of value 3: [3,4,5,1,2].\n",
    "\n",
    "Example 2:\n",
    "\n",
    "Input: nums = [2,1,3,4]\n",
    "Output: false\n",
    "Explanation: There is no sorted array once rotated that can make nums.\n",
    "\n",
    "Example 3:\n",
    "\n",
    "Input: nums = [1,2,3]\n",
    "Output: true\n",
    "Explanation: [1,2,3] is the original sorted array.\n",
    "You can rotate the array by x = 0 positions (i.e. no rotation) to make nums."
   ]
  },
  {
   "cell_type": "code",
   "execution_count": null,
   "metadata": {},
   "outputs": [],
   "source": [
    "class Solution:\n",
    "    def check(self, nums: List[int]) -> bool:\n",
    "        count = 0\n",
    "        for i in range(len(nums) - 1):\n",
    "            if nums[i] > nums[i+1]:\n",
    "                count += 1\n",
    "        \n",
    "        if nums[0] < nums[len(nums)-1]:\n",
    "            count += 1\n",
    "        \n",
    "        return count <= 1"
   ]
  },
  {
   "cell_type": "markdown",
   "metadata": {},
   "source": [
    "### Merge Two Sorted Arrays\n",
    "Sets approach\n",
    "\n",
    "[Coding Ninjas Link](https://www.codingninjas.com/studio/problems/sorted-array_6613259?utm_source=striver&utm_medium=website&utm_campaign=a_zcoursetuf&leftPanelTab=0)"
   ]
  },
  {
   "cell_type": "code",
   "execution_count": null,
   "metadata": {},
   "outputs": [],
   "source": [
    "def sortedArray(a: [int], b: [int]) -> [int]:\n",
    "    # Write your code here\n",
    "    s = set()\n",
    "    union = []\n",
    "    for i in a:\n",
    "        s.add(i)\n",
    "    for i in b:\n",
    "        s.add(i)\n",
    "    for i in s:\n",
    "        union.append(i)\n",
    "    return union"
   ]
  },
  {
   "cell_type": "markdown",
   "metadata": {},
   "source": [
    "### 88. Merge Sorted Arrays\n",
    "[Link](https://leetcode.com/problems/merge-sorted-array/submissions/)\n",
    "You are given two integer arrays nums1 and nums2, sorted in non-decreasing order, and two integers m and n, representing the number of elements in nums1 and nums2 respectively.\n",
    "\n",
    "Merge nums1 and nums2 into a single array sorted in non-decreasing order.\n",
    "\n",
    "The final sorted array should not be returned by the function, but instead be stored inside the array nums1. To accommodate this, nums1 has a length of m + n, where the first m elements denote the elements that should be merged, and the last n elements are set to 0 and should be ignored. nums2 has a length of n.\n",
    "\n",
    "Example 1:\n",
    "\n",
    "Input: nums1 = [1,2,3,0,0,0], m = 3, nums2 = [2,5,6], n = 3\n",
    "Output: [1,2,2,3,5,6]\n",
    "Explanation: The arrays we are merging are [1,2,3] and [2,5,6].\n",
    "The result of the merge is [1,2,2,3,5,6] with the underlined elements coming from nums1.\n",
    "\n",
    "Example 2:\n",
    "\n",
    "Input: nums1 = [1], m = 1, nums2 = [], n = 0\n",
    "Output: [1]\n",
    "Explanation: The arrays we are merging are [1] and [].\n",
    "The result of the merge is [1].\n",
    "\n",
    "Example 3:\n",
    "\n",
    "Input: nums1 = [0], m = 0, nums2 = [1], n = 1\n",
    "Output: [1]\n",
    "Explanation: The arrays we are merging are [] and [1].\n",
    "The result of the merge is [1].\n",
    "Note that because m = 0, there are no elements in nums1. The 0 is only there to ensure the merge result can fit in nums1."
   ]
  },
  {
   "cell_type": "code",
   "execution_count": null,
   "metadata": {},
   "outputs": [],
   "source": [
    "class Solution:\n",
    "    def merge(self, nums1: List[int], m: int, nums2: List[int], n: int) -> None:\n",
    "        \"\"\"\n",
    "        Do not return anything, modify nums1 in-place instead.\n",
    "        \"\"\"\n",
    "        for i in range(1,len(nums2)+1):\n",
    "            # print(i)\n",
    "            nums1[-i] = nums2[-i]\n",
    "            # print(nums1[-i])\n",
    "        nums1 = nums1.sort()"
   ]
  }
 ],
 "metadata": {
  "kernelspec": {
   "display_name": "Python 3",
   "language": "python",
   "name": "python3"
  },
  "language_info": {
   "codemirror_mode": {
    "name": "ipython",
    "version": 3
   },
   "file_extension": ".py",
   "mimetype": "text/x-python",
   "name": "python",
   "nbconvert_exporter": "python",
   "pygments_lexer": "ipython3",
   "version": "3.9.5"
  },
  "orig_nbformat": 4
 },
 "nbformat": 4,
 "nbformat_minor": 2
}
