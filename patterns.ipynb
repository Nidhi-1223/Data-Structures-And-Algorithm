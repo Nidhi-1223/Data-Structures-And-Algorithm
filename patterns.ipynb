{
 "cells": [
  {
   "cell_type": "markdown",
   "metadata": {},
   "source": [
    "# Patterns\n",
    "\n",
    "## Q.1"
   ]
  },
  {
   "cell_type": "code",
   "execution_count": 5,
   "metadata": {},
   "outputs": [
    {
     "name": "stdout",
     "output_type": "stream",
     "text": [
      "* * * * * \n",
      "* * * * * \n",
      "* * * * * \n",
      "* * * * * \n",
      "* * * * * \n"
     ]
    }
   ],
   "source": [
    "## Q.1\n",
    "'''\n",
    "* * *\n",
    "* * *\n",
    "* * *\n",
    "'''\n",
    "def pattern1(n):\n",
    "    for i in range(0,n):\n",
    "        for j in range(0,n):\n",
    "            print('*', end=' ')\n",
    "        print('')\n",
    "\n",
    "n = int(input('input n:'))\n",
    "pattern1(n)"
   ]
  },
  {
   "cell_type": "code",
   "execution_count": 8,
   "metadata": {},
   "outputs": [
    {
     "name": "stdout",
     "output_type": "stream",
     "text": [
      "* * * * * \n",
      "\n",
      "* * * * * \n",
      "\n",
      "* * * * * \n",
      "\n",
      "* * * * * \n",
      "\n",
      "* * * * * \n",
      "\n"
     ]
    }
   ],
   "source": [
    "def nForest(n:int) ->None:\n",
    "    for i in range(0,n):\n",
    "        for j in range(0,n):\n",
    "            print('*', end=' ')\n",
    "        print('\\n')\n",
    "    \n",
    "\n",
    "n = int(input())\n",
    "nForest(n)"
   ]
  },
  {
   "cell_type": "code",
   "execution_count": 13,
   "metadata": {},
   "outputs": [
    {
     "name": "stdout",
     "output_type": "stream",
     "text": [
      "    *     \n",
      "   ***    \n",
      "  *****   \n",
      " *******  \n",
      "********* \n"
     ]
    }
   ],
   "source": [
    "# Q.7 \n",
    "\n",
    "'''\n",
    "    *\n",
    "   ***  \n",
    "  *****\n",
    " *******\n",
    "*********\n",
    "'''\n",
    "def printTriangle(n):\n",
    "    for i in range(0,n):\n",
    "        # space\n",
    "        for j in range(0, n-i-1):\n",
    "            print(' ', end='')\n",
    "        # star\n",
    "        for k in range(0, 2*i+1):\n",
    "            print('*',end='')\n",
    "        # space\n",
    "        for l in range(0, n-i-1):\n",
    "            print(' ',end='')\n",
    "        print(' ')\n",
    "\n",
    "printTriangle(5)"
   ]
  },
  {
   "cell_type": "code",
   "execution_count": 21,
   "metadata": {},
   "outputs": [
    {
     "name": "stdout",
     "output_type": "stream",
     "text": [
      "*\n",
      "**\n",
      "***\n",
      "****\n",
      "*****\n",
      "****\n",
      "***\n",
      "**\n",
      "*\n"
     ]
    }
   ],
   "source": [
    "'''\n",
    "Input: 5\n",
    "\n",
    "Output:\n",
    "* \n",
    "* * \n",
    "* * * \n",
    "* * * * \n",
    "* * * * *\n",
    "* * * *\n",
    "* * *\n",
    "* *\n",
    "*\n",
    "'''\n",
    "n=5\n",
    "for i in range(1,2*n): # this would basically loop from 0 to 2*n-1 but indexing from 0 is kinda complicating the whole problem\n",
    "    if i<=n:\n",
    "        stars = i\n",
    "    elif i>n:\n",
    "        stars = 2*n - i \n",
    "    for j in range(1, stars+1):\n",
    "        print('*',end='')\n",
    "    print('')\n",
    "    \n",
    "\n",
    "# the same code with loops starting from 0\n",
    "for i in range(0, 2*n-1):\n",
    "    if i<n: \n",
    "        stars = i+1\n",
    "    else:\n",
    "        stars = 2*n - (i+1) # 2n - i - 1\n",
    "\n",
    "    # print(i, stars)\n",
    "    for j in range(0, stars):\n",
    "        print('*', end='')\n",
    "    print('')"
   ]
  },
  {
   "cell_type": "code",
   "execution_count": 28,
   "metadata": {},
   "outputs": [
    {
     "name": "stdout",
     "output_type": "stream",
     "text": [
      "0\n",
      "01\n",
      "000\n",
      "0101\n",
      "00000\n"
     ]
    }
   ],
   "source": [
    "'''\n",
    "Input: 5\n",
    "\n",
    "Output:\n",
    "1 \n",
    "0 1 \n",
    "1 0 1\n",
    "0 1 0 1 \n",
    "1 0 1 0 1\n",
    "'''\n",
    "\n"
   ]
  },
  {
   "cell_type": "code",
   "execution_count": 33,
   "metadata": {},
   "outputs": [
    {
     "name": "stdout",
     "output_type": "stream",
     "text": [
      "\n",
      "A\n",
      "AB\n",
      "ABC\n",
      "ABCD\n",
      "ABCDE\n"
     ]
    }
   ],
   "source": [
    "'''\n",
    "ASCII SYMBOLS------------------------------\n",
    "\n",
    "A-Z                                          [65-90]\n",
    "a-z                                          [97-122]\n",
    "0-9                                          [48-57]\n",
    "Special symbols                              [0-47,58-64,91-96,123-127]\n",
    "'''\n",
    "\n",
    "'''\n",
    "QUESTION\n",
    "Input: 5\n",
    "\n",
    "Output:\n",
    "A\n",
    "AB\n",
    "ABC\n",
    "ABCD\n",
    "ABCDE\n",
    "\n",
    "'''\n",
    "N = 5\n",
    "for i in range(0,N+1):\n",
    "    start = 65\n",
    "    for j in range(i):\n",
    "        print(f'{chr(start)}',end='')\n",
    "        start+=1\n",
    "    print('')"
   ]
  }
 ],
 "metadata": {
  "kernelspec": {
   "display_name": "Python 3",
   "language": "python",
   "name": "python3"
  },
  "language_info": {
   "codemirror_mode": {
    "name": "ipython",
    "version": 3
   },
   "file_extension": ".py",
   "mimetype": "text/x-python",
   "name": "python",
   "nbconvert_exporter": "python",
   "pygments_lexer": "ipython3",
   "version": "3.9.5"
  },
  "orig_nbformat": 4
 },
 "nbformat": 4,
 "nbformat_minor": 2
}
