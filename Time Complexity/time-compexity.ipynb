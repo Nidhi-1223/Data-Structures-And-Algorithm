{
 "cells": [
  {
   "attachments": {},
   "cell_type": "markdown",
   "metadata": {},
   "source": [
    "# Question 1 - Product & Sum\n",
    "[Solution video](https://www.udemy.com/course/data-structures-and-algorithms-bootcamp-in-python/learn/lecture/18648040#overview)"
   ]
  },
  {
   "cell_type": "code",
   "execution_count": null,
   "metadata": {},
   "outputs": [],
   "source": [
    "def foo(array):\n",
    "    sum = 0\n",
    "    product = 1\n",
    "    for i in array: #loop 1\n",
    "        sum += i\n",
    "    for i in array: #loop 2\n",
    "        product *= i\n",
    "    print(\"Sum = \"+str(sum)+\", Product = \"+str(product)) "
   ]
  },
  {
   "attachments": {},
   "cell_type": "markdown",
   "metadata": {},
   "source": [
    "Solution : O(n)\n",
    "We get O(n) for both loops. And since they're not nested and below each other . <br>\n",
    "Total time complexity = O(n) + O(n) = O(n)"
   ]
  },
  {
   "attachments": {},
   "cell_type": "markdown",
   "metadata": {},
   "source": [
    "# Question 2 - Print Pairs\n"
   ]
  },
  {
   "cell_type": "code",
   "execution_count": null,
   "metadata": {},
   "outputs": [],
   "source": [
    "def printPairs(array):\n",
    "    for i in array:\n",
    "        for j in array:\n",
    "            print(str(i)+\",\"+str(j))"
   ]
  },
  {
   "attachments": {},
   "cell_type": "markdown",
   "metadata": {},
   "source": [
    "Soltuion : O(n^2). <br>\n",
    "We get O(n) for both loops. And since they're nested <br>\n",
    "Total time complexity = O(n) * O(n) = O(n^2)"
   ]
  },
  {
   "attachments": {},
   "cell_type": "markdown",
   "metadata": {},
   "source": [
    "# Question 3 - Print unordered pairs\n"
   ]
  },
  {
   "cell_type": "code",
   "execution_count": null,
   "metadata": {},
   "outputs": [],
   "source": [
    "def printUnorderedPairs(array):\n",
    "    for i in range(0,len(array)): #loop 1\n",
    "        for j in range(i+1,len(array)): # loop 2\n",
    "            print(array[i] + \",\" + array[j])"
   ]
  },
  {
   "attachments": {},
   "cell_type": "markdown",
   "metadata": {},
   "source": [
    "Solution : O(n^2)"
   ]
  },
  {
   "attachments": {},
   "cell_type": "markdown",
   "metadata": {},
   "source": [
    "# Question 4 - print unordered pairs"
   ]
  },
  {
   "cell_type": "code",
   "execution_count": null,
   "metadata": {},
   "outputs": [],
   "source": [
    "def printUnorderedPairs(arrayA, arrayB):\n",
    "    for i in range(len(arrayA)): # loop 1\n",
    "        for j in range(len(arrayB)): # loop 2\n",
    "            if arrayA[i] < arrayB[j]:\n",
    "                print(str(arrayA[i]) + \",\" + str(arrayB[j]))"
   ]
  },
  {
   "attachments": {},
   "cell_type": "markdown",
   "metadata": {},
   "source": [
    "Solution : Assume a = len(arrayA) and b = len(arrayB) <br>\n",
    "For each element of arrayA (loop 1), the inner loop (loop 2)goes b times <br>\n",
    "ANSWER : O(ab)"
   ]
  },
  {
   "attachments": {},
   "cell_type": "markdown",
   "metadata": {},
   "source": [
    "# Question 5 - print unordered pairs"
   ]
  },
  {
   "cell_type": "code",
   "execution_count": null,
   "metadata": {},
   "outputs": [],
   "source": [
    "def printUnorderedPairs(arrayA, arrayB):\n",
    "    for i in range(len(arrayA)):\n",
    "        for j in range(len(arrayB)):\n",
    "            for k in range(0,100000):\n",
    "                print(str(arrayA[i]) + \",\" + str(arrayB[j]))"
   ]
  },
  {
   "attachments": {},
   "cell_type": "markdown",
   "metadata": {},
   "source": [
    "Solution : Assume a = len(arrayA) and b = len(arrayB) <br>\n",
    "**1000000 units of work or loop is still constant** <br>\n",
    "For each element of arrayA (loop 1), the inner loop (loop 2)goes b times <br>\n",
    "ANSWER : O(ab)"
   ]
  },
  {
   "attachments": {},
   "cell_type": "markdown",
   "metadata": {},
   "source": [
    "# Question 6 - reverse"
   ]
  },
  {
   "cell_type": "code",
   "execution_count": null,
   "metadata": {},
   "outputs": [],
   "source": [
    "def reverse(array):\n",
    "    for i in range(0,int(len(array)/2)):\n",
    "        other = len(array)-i-1\n",
    "        temp = array[i]\n",
    "        array[i] = array[other]\n",
    "        array[other] = temp\n",
    "    print(array)\n"
   ]
  },
  {
   "attachments": {},
   "cell_type": "markdown",
   "metadata": {},
   "source": [
    "Solution : O(n)\n",
    "The complexity of the loop is O(n/2) which is inturn O(n). <br>\n",
    "The complexity of the rest of the lines is constant O(1)"
   ]
  }
 ],
 "metadata": {
  "language_info": {
   "name": "python"
  },
  "orig_nbformat": 4
 },
 "nbformat": 4,
 "nbformat_minor": 2
}
