{
 "cells": [
  {
   "cell_type": "markdown",
   "metadata": {},
   "source": [
    "# Bubble Sort\n",
    "[reference](https://www.youtube.com/watch?v=Vca808JTbI8)"
   ]
  },
  {
   "cell_type": "code",
   "execution_count": 1,
   "metadata": {},
   "outputs": [
    {
     "name": "stdout",
     "output_type": "stream",
     "text": [
      "(67, 56)\n",
      "[1, 2, 3, 4, 5, 7, 8]\n"
     ]
    }
   ],
   "source": [
    "nums = [5,2,8,4,7,1,3]\n",
    "\n",
    "def swap(a,b):\n",
    "    t = a\n",
    "    a = b\n",
    "    b = t\n",
    "    return a, b\n",
    "\n",
    "def sort(nums):\n",
    "    for i in range(len(nums)-1, 0, -1):\n",
    "        for j in range(i):\n",
    "            # print(i, j)\n",
    "            if nums[j]>nums[j+1]:\n",
    "                nums[j], nums[j+1] = nums[j+1], nums[j]\n",
    "                # temp = nums[j]\n",
    "                # nums[j] = nums[j+1]\n",
    "                # nums[j+1] = temp\n",
    "    return nums\n",
    "\n",
    "print(swap(56,67))\n",
    "print(sort(nums))\n",
    "   # print(i)"
   ]
  },
  {
   "cell_type": "markdown",
   "metadata": {},
   "source": [
    "# Selection Sort\n",
    "Reference - from the course"
   ]
  },
  {
   "cell_type": "code",
   "execution_count": 2,
   "metadata": {},
   "outputs": [
    {
     "name": "stdout",
     "output_type": "stream",
     "text": [
      "[2, 3, 5, 6, 7, 8]\n"
     ]
    }
   ],
   "source": [
    "num = [5,3,8,6,7,2]\n",
    "\n",
    "def selection_sort(num):\n",
    "    for i in range(len(num)):\n",
    "        min_pos = i\n",
    "        for j in range(i+1, len(num)):\n",
    "            if num[min_pos] > num[j]:\n",
    "                min_pos = j\n",
    "        num[min_pos], num[i] = num[i], num[min_pos]\n",
    "    return num\n",
    "\n",
    "print(selection_sort(num))"
   ]
  },
  {
   "cell_type": "markdown",
   "metadata": {},
   "source": [
    "# Insertion Sort\n",
    "[Reference](https://youtu.be/8G-PB-RAzdg?t=1202)"
   ]
  },
  {
   "cell_type": "code",
   "execution_count": 3,
   "metadata": {},
   "outputs": [
    {
     "name": "stdout",
     "output_type": "stream",
     "text": [
      "[3, 5, 8, 6, 7, 2]\n",
      "[3, 5, 6, 8, 7, 2]\n",
      "[3, 5, 6, 7, 8, 2]\n",
      "[3, 5, 6, 7, 2, 8]\n",
      "[3, 5, 6, 2, 7, 8]\n",
      "[3, 5, 2, 6, 7, 8]\n",
      "[3, 2, 5, 6, 7, 8]\n",
      "[2, 3, 5, 6, 7, 8]\n"
     ]
    }
   ],
   "source": [
    "num = [5,3,8,6,7,2]\n",
    "\n",
    "def insertion_sort(num):\n",
    "    for a in range(1,len(num)):\n",
    "        b = a\n",
    "        while b>0 and num[b] < num[b-1]:\n",
    "            num[b-1], num[b] = num[b], num[b-1]\n",
    "            b-=1\n",
    "            print(num)\n",
    "\n",
    "insertion_sort(num)\n",
    "            "
   ]
  },
  {
   "cell_type": "markdown",
   "metadata": {},
   "source": [
    "## Merge Sort"
   ]
  },
  {
   "cell_type": "code",
   "execution_count": 25,
   "metadata": {},
   "outputs": [
    {
     "name": "stdout",
     "output_type": "stream",
     "text": [
      "[1, 2, 3, 4, 5, 6, 7]\n"
     ]
    }
   ],
   "source": [
    "def mergeSort(num):\n",
    "    if len(num)<=1:\n",
    "        return num\n",
    "    \n",
    "    ### the divide part\n",
    "    mid = len(num) // 2 # // is an operator for floor division, we get the answer as the integer instead of float\n",
    "    left = num[:mid]\n",
    "    right = num[mid:]\n",
    "    \n",
    "    mergeSort(left)   # complexity = T(n/2) -> O(nlog(n))\n",
    "    mergeSort(right)    # complexity = T(n/2) -> O(nlog(n))\n",
    "    return merge_two_sorted_list(left, right,num)\n",
    "\n",
    "def merge_two_sorted_list(a,b,num):\n",
    "    i=j=k=0 # k is the counter\n",
    "\n",
    "    # we will use i to iterate throught left list and j for right\n",
    "    while i < len(a) and j < len(b): # O(n)\n",
    "        if a[i] <= b[j]:\n",
    "            num[k] = a[i]\n",
    "            # jo list se element append hoga uska increment karenge \n",
    "            i+=1\n",
    "        else:\n",
    "            num[k] = b[j]\n",
    "            j+=1\n",
    "        k+=1\n",
    "    # in the above while loop, the two conditions were connected using the `and` operator. so it will exit even when we've traveresed one array entirely but we're left with another. so if we went through `a` but there are some elements left to traverse in `b` even then it will exit the condition. therefore we have traverse each list again for the last time\n",
    "    while i < len(a):\n",
    "        num[k] = a[i]\n",
    "        i+=1\n",
    "        k+=1\n",
    "    while j < len(b):\n",
    "        num[k] = b[j]\n",
    "        j+=1\n",
    "        k+=1\n",
    "\n",
    "arr = [6,4,3,7,5,1,2]\n",
    "mergeSort(arr)\n",
    "print(arr)"
   ]
  },
  {
   "cell_type": "markdown",
   "metadata": {},
   "source": [
    "## Quick Sort\n"
   ]
  },
  {
   "cell_type": "code",
   "execution_count": 32,
   "metadata": {},
   "outputs": [
    {
     "name": "stdout",
     "output_type": "stream",
     "text": [
      "[0, 1, 2, 3, 4, 5, 6]\n"
     ]
    }
   ],
   "source": [
    "def swap(num, index1, index2):\n",
    "    num[index1], num[index2] = num[index2], num[index1]\n",
    "\n",
    "def pivot(num, pivot_index, end_index):\n",
    "    swap_index = pivot_index\n",
    "    for i in range(pivot_index+1, end_index+1):\n",
    "        if num[i] < num[pivot_index]:\n",
    "            '''\n",
    "            if the current number is less than the number at the pivot index then increase the swap index and swap the current element with the element at swap index.\n",
    "            '''\n",
    "            swap_index += 1\n",
    "            swap(num, swap_index, i)\n",
    "    \n",
    "    swap(num, pivot_index, swap_index)\n",
    "    return swap_index\n",
    "    '''\n",
    "    we are returing the swap index as in the next function, we'll need the swap index to know where to define the left and right lists.\n",
    "    '''\n",
    "\n",
    "def quickSort_logic(num,left, right):\n",
    "    if left<right:\n",
    "        pivot_index = pivot(num, left, right)\n",
    "        quickSort_logic(num, left,pivot_index-1)\n",
    "        quickSort_logic(num, pivot_index+1, right)\n",
    "    return num\n",
    "\n",
    "def quickSort(num):\n",
    "    return quickSort_logic(num, 0, len(num)-1)\n",
    "\n",
    "num = [3,5,0,6,2,1,4]\n",
    "# print(pivot(num,0,(len(num)-1) ))\n",
    "print(quickSort(num))\n"
   ]
  }
 ],
 "metadata": {
  "kernelspec": {
   "display_name": "Python 3",
   "language": "python",
   "name": "python3"
  },
  "language_info": {
   "codemirror_mode": {
    "name": "ipython",
    "version": 3
   },
   "file_extension": ".py",
   "mimetype": "text/x-python",
   "name": "python",
   "nbconvert_exporter": "python",
   "pygments_lexer": "ipython3",
   "version": "3.9.5"
  },
  "orig_nbformat": 4
 },
 "nbformat": 4,
 "nbformat_minor": 2
}
