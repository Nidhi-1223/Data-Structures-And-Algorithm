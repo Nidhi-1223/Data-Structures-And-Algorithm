{
 "cells": [
  {
   "cell_type": "markdown",
   "metadata": {},
   "source": [
    "# String Functions"
   ]
  },
  {
   "cell_type": "markdown",
   "metadata": {},
   "source": [
    "## Reverse a string using ```reversed()```\n",
    "Explanation : \n",
    "\n",
    "Reversing Strings With .join() and reversed()\n",
    "The most Pythonic approach to reversing strings is to use reversed() along with str.join(). If you pass a string to reversed(), you get an iterator that yields characters in reverse order : \n",
    "\n",
    "```\n",
    ">>> greeting = reversed(\"Hello, World!\")\n",
    "\n",
    ">>> next(greeting)\n",
    "'!'\n",
    ">>> next(greeting)\n",
    "'d'\n",
    ">>> next(greeting)\n",
    "'l'\n",
    "\n",
    "```\n",
    "\n",
    "When you call next() with greeting as an argument, you get each character from the right end of the original string.\n",
    "\n",
    "An important point to note about reversed() is that the resulting iterator yields characters directly from the original string. In other words, it doesn’t create a new reversed string but reads characters backward from the existing one. This behavior is fairly efficient in terms of memory consumption and can be a fundamental win in some contexts and situations, such as iteration.\n",
    "\n",
    "You can use the iterator that you get from calling reversed() directly as an argument to .join():\n",
    "\n",
    "```\n",
    ">>> \"\".join(reversed(\"Hello, World!\"))\n",
    "'!dlroW ,olleH'\n",
    "```\n",
    "[link](https://realpython.com/reverse-string-python/#reversing-strings-with-join-and-reversed)"
   ]
  },
  {
   "cell_type": "code",
   "execution_count": null,
   "metadata": {},
   "outputs": [],
   "source": [
    "s = 'abcdefg'\n",
    "''.join(reversed(s))"
   ]
  },
  {
   "cell_type": "markdown",
   "metadata": {},
   "source": [
    "## Split and join\n",
    "The `split()` method splits a string into a list.\n",
    "\n",
    "You can specify the separator, default separator is any whitespace.\n",
    "\n",
    "**Syntax:**\n",
    "`string.split(separator, maxsplit)` \n",
    "both the parameters are optional\n",
    "\n",
    "Example :\n",
    "\n",
    "txt = \"hello, my name is Peter, I am 26 years old\"\n",
    "x = txt.split(\", \")\n",
    "print(x)\n",
    "\n",
    "Output :\n",
    "\n",
    "['hello', 'my name is Peter', 'I am 26 years old']\n",
    "\n",
    "\n",
    "---------------------------------------------------------------------------------------\n",
    "The `join()` method takes all items in an iterable and joins them into one string.\n",
    "\n",
    "A string must be specified as the separator.\n",
    "\n",
    "**Syntax:**\n",
    "`string.join(iterable_object)` The parameter is required!\n",
    "\n",
    "Example1: \n",
    "\n",
    "myTuple = (\"John\", \"Peter\", \"Vicky\")\n",
    "x = \" \".join(myTuple)\n",
    "print(x)\n",
    "\n",
    "Output:\n",
    "\n",
    "John Peter Vicky"
   ]
  },
  {
   "cell_type": "code",
   "execution_count": 1,
   "metadata": {},
   "outputs": [
    {
     "name": "stdout",
     "output_type": "stream",
     "text": [
      "nameTESTcountry\n"
     ]
    }
   ],
   "source": [
    "#example 2\n",
    "myDict = {\"name\": \"John\", \"country\": \"Norway\"}\n",
    "mySeparator = \"TEST\"\n",
    "\n",
    "x = mySeparator.join(myDict)\n",
    "\n",
    "print(x)"
   ]
  },
  {
   "cell_type": "markdown",
   "metadata": {},
   "source": [
    "## lstrip & rstrip\n",
    "\n",
    "The `lstrip()` creates a new string by either deleting whitespace from the string’s “left” side or its leading whitespace.\n",
    "\n",
    "The `rstrip()` creates a new string by removing the trailing whitespace. Eliminating the white spaces from the string’s “right” side makes it simpler to recall."
   ]
  },
  {
   "cell_type": "code",
   "execution_count": 2,
   "metadata": {},
   "outputs": [
    {
     "name": "stdout",
     "output_type": "stream",
     "text": [
      "geeksforgeeks.org www.\n"
     ]
    }
   ],
   "source": [
    "\n",
    "string = \"www.geeksforgeeks.org www.\"\n",
    " \n",
    "string_new = string.lstrip(\"w.\")\n",
    " \n",
    "print(string_new)"
   ]
  },
  {
   "cell_type": "code",
   "execution_count": 3,
   "metadata": {},
   "outputs": [
    {
     "name": "stdout",
     "output_type": "stream",
     "text": [
      "www.geeksforgeeks.org \n"
     ]
    }
   ],
   "source": [
    "string = \"www.geeksforgeeks.org www.\"\n",
    " \n",
    "string_new = string.rstrip(\"w.\")\n",
    " \n",
    "print(string_new)"
   ]
  },
  {
   "cell_type": "markdown",
   "metadata": {},
   "source": [
    "## Sort string\n",
    "Sorting using join and sorted function\n",
    "Example:\n",
    "s = ''.join(sorted(s))\n",
    "t = ''.join(sorted(t))"
   ]
  }
 ],
 "metadata": {
  "kernelspec": {
   "display_name": "Python 3",
   "language": "python",
   "name": "python3"
  },
  "language_info": {
   "codemirror_mode": {
    "name": "ipython",
    "version": 3
   },
   "file_extension": ".py",
   "mimetype": "text/x-python",
   "name": "python",
   "nbconvert_exporter": "python",
   "pygments_lexer": "ipython3",
   "version": "3.9.5"
  },
  "orig_nbformat": 4
 },
 "nbformat": 4,
 "nbformat_minor": 2
}
