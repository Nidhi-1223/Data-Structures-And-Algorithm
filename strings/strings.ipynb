{
 "cells": [
  {
   "cell_type": "markdown",
   "metadata": {},
   "source": [
    "# String questions\n",
    "\n",
    "## 1. Reverse a string in the form of array\n",
    "[Leetcode - 344](https://leetcode.com/problems/reverse-string/description/)\n",
    "Example 1:\n",
    "\n",
    "Input: s = [\"h\",\"e\",\"l\",\"l\",\"o\"]\n",
    "\n",
    "Output: [\"o\",\"l\",\"l\",\"e\",\"h\"]\n",
    "\n",
    "Example 2:\n",
    "\n",
    "Input: s = [\"H\",\"a\",\"n\",\"n\",\"a\",\"h\"]\n",
    "\n",
    "Output: [\"h\",\"a\",\"n\",\"n\",\"a\",\"H\"]"
   ]
  },
  {
   "cell_type": "code",
   "execution_count": 1,
   "metadata": {},
   "outputs": [],
   "source": [
    "class Solution:\n",
    "    def reverseString(self, s: [str]) -> None:\n",
    "        \"\"\"\n",
    "        Do not return anything, modify s in-place instead.\n",
    "        \"\"\"\n",
    "        ## Method 1\n",
    "        # s.reverse()\n",
    "\n",
    "        # Method 2 - O(1)\n",
    "        l, r = 0, len(s)-1\n",
    "        while l<r:\n",
    "            s[l], s[r] = s[r], s[l]\n",
    "            l +=1\n",
    "            r -=1\n",
    "\n",
    "        # # Method 3 - using a stack\n",
    "        # stack = []\n",
    "        # for i in s:\n",
    "        #     stack.append(i)\n",
    "        # i = 0\n",
    "        # while stack:\n",
    "        #     s[i] = stack.pop()\n",
    "        #     i+=1\n",
    "        \n",
    "        # # Method 4 - using recursion\n",
    "        # l, r = 0, len(s) - 1\n",
    "        # def reverse(l,r):\n",
    "        #     if l<r:\n",
    "        #         s[l], s[r] = s[r], s[l]\n",
    "        #         reverse(l+1, r-1)\n",
    "        # reverse(l,r)"
   ]
  },
  {
   "cell_type": "markdown",
   "metadata": {},
   "source": [
    "## 2. Reverse strings for given indexes\n",
    "[Leetcode 541](https://leetcode.com/problems/reverse-string-ii/description/)\n",
    "\n",
    "Given a string s and an integer k, reverse the first k characters for every 2k characters counting from the start of the string.\n",
    "\n",
    "If there are fewer than k characters left, reverse all of them. If there are less than 2k but greater than or equal to k characters, then reverse the first k characters and leave the other as original.\n",
    "\n",
    " \n",
    "\n",
    "Example 1:\n",
    "\n",
    "Input: s = \"abcdefg\", k = 2\n",
    "Output: \"bacdfeg\"\n",
    "\n",
    "Example 2:\n",
    "\n",
    "Input: s = \"abcd\", k = 2\n",
    "Output: \"bacd\""
   ]
  },
  {
   "cell_type": "code",
   "execution_count": null,
   "metadata": {},
   "outputs": [],
   "source": [
    "class Solution:\n",
    "    def reverseStr(self, s: str, k: int) -> str:\n",
    "        if k >=len(s):\n",
    "            s[::-1]\n",
    "        s = list(s)\n",
    "        for i in range(0, len(s), 2*k):\n",
    "            s[i:i+k] = (s[i:i+k])[::-1]\n",
    "        return ''.join(s)"
   ]
  },
  {
   "cell_type": "markdown",
   "metadata": {},
   "source": [
    "## Check whether the string is a Palindrome\n",
    "\n",
    "Given a string S, check if it is palindrome or not.\n",
    "\n",
    "Example 1:\n",
    "\n",
    "Input: S = \"abba\"\n",
    "Output: 1\n",
    "Explanation: S is a palindrome\n",
    "\n",
    "Example 2:\n",
    "\n",
    "Input: S = \"abc\" \n",
    "Output: 0\n",
    "Explanation: S is not a palindrome\n",
    "\n",
    "Your Task:\n",
    "\n",
    "You don't need to read input or print anything. Complete the function isPalindrome()which accepts string S and returns an integer value 1 or 0.\n",
    "\n",
    "[Link](https://practice.geeksforgeeks.org/problems/palindrome-string0817/1)"
   ]
  },
  {
   "cell_type": "code",
   "execution_count": null,
   "metadata": {},
   "outputs": [],
   "source": [
    "class Solution:\n",
    "\tdef isPalindrome(self, S):\n",
    "\t\t# code here\n",
    "\t\tS_rev = S[::-1]\n",
    "\t\tif (S == S_rev):\n",
    "\t\t    return 1\n",
    "\t    else:\n",
    "\t        return 0"
   ]
  }
 ],
 "metadata": {
  "kernelspec": {
   "display_name": "Python 3",
   "language": "python",
   "name": "python3"
  },
  "language_info": {
   "codemirror_mode": {
    "name": "ipython",
    "version": 3
   },
   "file_extension": ".py",
   "mimetype": "text/x-python",
   "name": "python",
   "nbconvert_exporter": "python",
   "pygments_lexer": "ipython3",
   "version": "3.9.5"
  },
  "orig_nbformat": 4
 },
 "nbformat": 4,
 "nbformat_minor": 2
}
