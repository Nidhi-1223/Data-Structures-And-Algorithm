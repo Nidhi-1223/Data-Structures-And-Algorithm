{
 "cells": [
  {
   "cell_type": "markdown",
   "metadata": {},
   "source": [
    "# Hashing \n",
    "** Note - Revisit after Dictionary ** \n",
    "2 Steps : \n",
    "\n",
    "1. Pre-storing\n",
    "2. Fetching\n",
    "\n",
    "[Reference](https://www.youtube.com/watch?v=KEs5UyBJ39g)\n",
    "\n",
    "Hashmaps are internal data structures. Dictionary in python is an implementation of hashmap."
   ]
  },
  {
   "cell_type": "markdown",
   "metadata": {},
   "source": [
    "[Leetcode 49](https://leetcode.com/problems/group-anagrams/)\n",
    "\n",
    "Given an array of strings strs, group the anagrams together. You can return the answer in any order.\n",
    "\n",
    "An Anagram is a word or phrase formed by rearranging the letters of a different word or phrase, typically using all the original letters exactly once.\n",
    "\n",
    " \n",
    "Example 1:\n",
    "\n",
    "Input: strs = [\"eat\",\"tea\",\"tan\",\"ate\",\"nat\",\"bat\"]\n",
    "\n",
    "Output: [[\"bat\"],[\"nat\",\"tan\"],[\"ate\",\"eat\",\"tea\"]]\n",
    "\n",
    "Example 2:\n",
    "\n",
    "Input: strs = [\"\"]\n",
    "\n",
    "Output: [[\"\"]]"
   ]
  },
  {
   "cell_type": "code",
   "execution_count": 2,
   "metadata": {},
   "outputs": [],
   "source": [
    "from collections import defaultdict\n",
    "\n",
    "class Solution:\n",
    "    def groupAnagrams(self, strs: list[str]) -> list[list[str]]:\n",
    "        anagram_map = defaultdict(list)\n",
    "        result = []\n",
    "\n",
    "        for s in strs:\n",
    "            sorted_s = tuple(sorted(s)) \n",
    "            '''  \n",
    "            sorted(s) gives a list of alphabets sorted in ascending order.\n",
    "            We are typecasting it into a tuple because key of a dictionary \n",
    "            should be immutable and list is mutable.\n",
    "            '''\n",
    "            anagram_map[sorted_s].append(s)\n",
    "        # print(anagram_map)\n",
    "        for value in anagram_map.values():\n",
    "            result.append(value)\n",
    "        return result\n"
   ]
  },
  {
   "cell_type": "markdown",
   "metadata": {},
   "source": [
    "### 1. Two Sum\n",
    "Given an array of integers nums and an integer target, return indices of the two numbers such that they add up to target.\n",
    "\n",
    "You may assume that each input would have exactly one solution, and you may not use the same element twice.\n",
    "\n",
    "You can return the answer in any order.\n",
    " \n",
    "Example 1:\n",
    "\n",
    "Input: nums = [2,7,11,15], target = 9\n",
    "Output: [0,1]\n",
    "Explanation: Because nums[0] + nums[1] == 9, we return [0, 1].\n",
    "Example 2:\n",
    "\n",
    "Input: nums = [3,2,4], target = 6\n",
    "Output: [1,2]\n",
    "Example 3:\n",
    "\n",
    "Input: nums = [3,3], target = 6\n",
    "Output: [0,1]"
   ]
  },
  {
   "cell_type": "code",
   "execution_count": 5,
   "metadata": {},
   "outputs": [
    {
     "name": "stdout",
     "output_type": "stream",
     "text": [
      "{0: 1, 1: 1, 2: 1, 3: 1, 4: 1}\n"
     ]
    }
   ],
   "source": [
    "# using hashmap\n",
    "prevMap = {} # val: index\n",
    "for index, value in enumerate(nums):\n",
    "    diff = target - value\n",
    "    if diff in prevMap:\n",
    "        print([prevMap[diff], index])\n",
    "    prevMap[value] = index"
   ]
  },
  {
   "cell_type": "markdown",
   "metadata": {},
   "source": [
    "### 217. Contains Duplicate\n",
    "Given an integer array nums, return true if any value appears at least twice in the array, and return false if every element is distinct.\n",
    "Example 1:\n",
    "\n",
    "Input: nums = [1,2,3,1]\n",
    "Output: true\n",
    "Example 2:\n",
    "\n",
    "Input: nums = [1,2,3,4]\n",
    "Output: false"
   ]
  },
  {
   "cell_type": "code",
   "execution_count": null,
   "metadata": {},
   "outputs": [],
   "source": [
    "class Solution:\n",
    "    def containsDuplicate(self, nums: List[int]) -> bool:\n",
    "        hashMap = {}\n",
    "        result = []\n",
    "        for i in nums:\n",
    "            if i in hashMap:\n",
    "                hashMap[i] += 1\n",
    "                result.append(i)\n",
    "                return True\n",
    "            else:\n",
    "                hashMap[i] = 1\n",
    "        return False\n",
    "        # print(result)\n",
    "        # print(hashMap)\n"
   ]
  },
  {
   "cell_type": "markdown",
   "metadata": {},
   "source": [
    "### 442. Find all duplicates in an array\n",
    "Given an integer array nums of length n where all the integers of nums are in the range [1, n] and each integer appears once or twice, return an array of all the integers that appears twice.\n",
    "\n",
    "You must write an algorithm that runs in O(n) time and uses only constant extra space.\n",
    "\n",
    "Example 1:\n",
    "\n",
    "Input: nums = [4,3,2,7,8,2,3,1]\n",
    "Output: [2,3]\n",
    "Example 2:\n",
    "\n",
    "Input: nums = [1,1,2]\n",
    "Output: [1]"
   ]
  },
  {
   "cell_type": "code",
   "execution_count": null,
   "metadata": {},
   "outputs": [],
   "source": [
    "class Solution:\n",
    "    def findDuplicates(self, nums: List[int]) -> List[int]:\n",
    "        hashMap = {} # value : frequency\n",
    "        result = []\n",
    "\n",
    "        for i in nums:\n",
    "            if i in hashMap:\n",
    "                hashMap[i] +=1\n",
    "                result.append(i)\n",
    "            else:\n",
    "                hashMap[i] = 1\n",
    "                \n",
    "        return result\n"
   ]
  },
  {
   "cell_type": "markdown",
   "metadata": {},
   "source": [
    "### 136. Single Number\n",
    "Given a non-empty array of integers nums, every element appears twice except for one. Find that single one.\n",
    "\n",
    "You must implement a solution with a linear runtime complexity and use only constant extra space.\n",
    "\n",
    "Example 1:\n",
    "\n",
    "Input: nums = [2,2,1]\n",
    "Output: 1\n",
    "Example 2:\n",
    "\n",
    "Input: nums = [4,1,2,1,2]\n",
    "Output: 4"
   ]
  },
  {
   "cell_type": "code",
   "execution_count": null,
   "metadata": {},
   "outputs": [],
   "source": [
    "class Solution:\n",
    "    def singleNumber(self, nums: list[int]) -> int:\n",
    "\n",
    "        # # A very naive approach\n",
    "        # hashMap = {}\n",
    "        # for i in nums:\n",
    "        #     if i in hashMap:\n",
    "        #         hashMap[i] += 1\n",
    "        #     else :\n",
    "        #         hashMap[i] = 1\n",
    "        #     print(hashMap)\n",
    "\n",
    "        # for key, value in hashMap.items():\n",
    "        #     if value == 1:\n",
    "        #         return key\n",
    "\n",
    "        # # method 2 - a bit better\n",
    "        # hashMap = {}\n",
    "        # for i in nums:\n",
    "        #     if i not in hashMap:\n",
    "        #         hashMap[i] = 1\n",
    "        #     else:\n",
    "        #         del hashMap[i]\n",
    "        # return list(hashMap.keys())[0]\n",
    "\n",
    "        # optimised approach\n",
    "        '''\n",
    "        We will use Bit Manipulation to get the optimised solution. \n",
    "        XOR Operator (^) to be precise\n",
    "        Rules : \n",
    "        1. a^a = 0\n",
    "        2. a^0 = a\n",
    "\n",
    "        So we'll use a^a = 0 and XOR all the input values and the result will be the binary value of the number that wasnt repeated twice\n",
    "        '''\n",
    "        res = 0 \n",
    "        for i in nums:\n",
    "            res = i^res\n",
    "        return res\n",
    "        "
   ]
  }
 ],
 "metadata": {
  "kernelspec": {
   "display_name": "Python 3",
   "language": "python",
   "name": "python3"
  },
  "language_info": {
   "codemirror_mode": {
    "name": "ipython",
    "version": 3
   },
   "file_extension": ".py",
   "mimetype": "text/x-python",
   "name": "python",
   "nbconvert_exporter": "python",
   "pygments_lexer": "ipython3",
   "version": "3.9.5"
  },
  "orig_nbformat": 4
 },
 "nbformat": 4,
 "nbformat_minor": 2
}
