{
 "cells": [
  {
   "cell_type": "code",
   "execution_count": null,
   "metadata": {},
   "outputs": [],
   "source": [
    "# find time complexity of (7/7/23)\n",
    "def printUnorderedPairs(array):\n",
    "    for i in range(0,len(array)): #loop 1\n",
    "        for j in range(i+1,len(array)): # loop 2\n",
    "            print(array[i] + \",\" + array[j])"
   ]
  },
  {
   "cell_type": "markdown",
   "metadata": {},
   "source": [
    "# learnings and findings"
   ]
  },
  {
   "cell_type": "code",
   "execution_count": null,
   "metadata": {},
   "outputs": [],
   "source": [
    "# how to swap to values of an array (here, nums)\n",
    "nums[l], nums[r] = nums[r], nums[l]"
   ]
  }
 ],
 "metadata": {
  "language_info": {
   "name": "python"
  },
  "orig_nbformat": 4
 },
 "nbformat": 4,
 "nbformat_minor": 2
}
