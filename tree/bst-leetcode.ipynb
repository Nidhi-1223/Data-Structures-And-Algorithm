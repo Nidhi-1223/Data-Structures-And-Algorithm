{
 "cells": [
  {
   "cell_type": "markdown",
   "metadata": {},
   "source": [
    "# LeetCode sums"
   ]
  },
  {
   "cell_type": "markdown",
   "metadata": {},
   "source": [
    "### Coding Ninjas - Inorder Traversal \n",
    "[Refernce](https://www.codingninjas.com/studio/problems/binary-search-trees_8160443?utm_source=striver&utm_medium=website&utm_campaign=a_zcoursetuf)"
   ]
  },
  {
   "cell_type": "code",
   "execution_count": null,
   "metadata": {},
   "outputs": [],
   "source": [
    "def isValidBST(order: [int]) -> bool:\n",
    "    # Write your code here.\n",
    "    flag = True\n",
    "    for i in range(1,len(order)):\n",
    "        # print(i-1, i)\n",
    "        if order[i-1] >= order[i]:\n",
    "            flag = False\n",
    "    return flag\n"
   ]
  },
  {
   "cell_type": "markdown",
   "metadata": {},
   "source": [
    "### 700. Search in a BST\n",
    "[Reference](https://leetcode.com/problems/search-in-a-binary-search-tree/)\n",
    "\n",
    "\n",
    "You are given the root of a binary search tree (BST) and an integer val.\n",
    "\n",
    "Find the node in the BST that the node's value equals val and return the subtree rooted with that node. If such a node does not exist, return null.\n",
    "\n",
    "\n",
    "\n",
    "Example 1:\n",
    "\n",
    "<img width = 200 height = 200 src = 'https://assets.leetcode.com/uploads/2021/01/12/tree1.jpg'/>\n",
    "\n",
    "Input: root = [4,2,7,1,3], val = 2\n",
    "Output: [2,1,3]\n",
    "Example 2:\n",
    "\n",
    "Example 2:\n",
    "\n",
    "<img width = 200 height = 200 src = 'https://assets.leetcode.com/uploads/2021/01/12/tree2.jpg'/>\n",
    "\n",
    "Input: root = [4,2,7,1,3], val = 5\n",
    "Output: []"
   ]
  },
  {
   "cell_type": "code",
   "execution_count": null,
   "metadata": {},
   "outputs": [],
   "source": [
    "# Definition for a binary tree node.\n",
    "from typing import *\n",
    "class TreeNode:\n",
    "    def __init__(self, val=0, left=None, right=None):\n",
    "        self.val = val\n",
    "        self.left = left\n",
    "        self.right = right\n",
    "\n",
    "class Solution:\n",
    "    def searchBST(self, root: Optional[TreeNode], val: int) -> Optional[TreeNode]:\n",
    "        if root is None:\n",
    "            return None\n",
    "        if root.val == val :\n",
    "            return root\n",
    "        elif val < root.val:\n",
    "            return self.searchBST(root.left, val)\n",
    "        else:\n",
    "            return self.searchBST(root.right, val)"
   ]
  },
  {
   "cell_type": "markdown",
   "metadata": {},
   "source": [
    "### Coding Ninjas - Minimum Element in BST \n",
    "[Reference](https://www.codingninjas.com/studio/problems/minimum-element-in-bst_8160462?utm_source=striver&utm_medium=website&utm_campaign=a_zcoursetuf&leftPanelTab=0)"
   ]
  },
  {
   "cell_type": "code",
   "execution_count": null,
   "metadata": {},
   "outputs": [],
   "source": [
    "\n",
    "class Node:\n",
    "    def __init__(self, x):\n",
    "        self.data = x\n",
    "        self.left = None\n",
    "        self.right = None\n",
    "\n",
    "\n",
    "def minVal(root):\n",
    "    if root is None:\n",
    "        return -1\n",
    "\n",
    "    if root.left == None:\n",
    "        return root.data\n",
    "    else:\n",
    "        curr = root\n",
    "        while curr.left:\n",
    "            curr = curr.left\n",
    "        return curr.data\n"
   ]
  },
  {
   "cell_type": "markdown",
   "metadata": {},
   "source": [
    "### Coding Ninjas - Ceil in a BST\n",
    "[Reference](https://www.codingninjas.com/studio/problems/ceil-from-bst_920464?utm_source=striver&utm_medium=website&utm_campaign=a_zcoursetuf)"
   ]
  },
  {
   "cell_type": "code",
   "execution_count": null,
   "metadata": {},
   "outputs": [],
   "source": [
    "from os import *\n",
    "from sys import *\n",
    "from collections import *\n",
    "from math import *\n",
    "\n",
    "    # Following is the TreeNode class structure\n",
    "\n",
    "class TreeNode:\n",
    "    def __init__(self, data):\n",
    "        self.data = data\n",
    "        self.left = None\n",
    "        self.right = None\n",
    "\n",
    "\n",
    "\n",
    "def findCeil(root, x):\n",
    "    # Write your code here.\n",
    "    ceil = -1\n",
    "    if root is None:\n",
    "        return None\n",
    "    while root != None:\n",
    "        if root.data == x:\n",
    "            ceil = root.data\n",
    "            return ceil\n",
    "        if x > root.data:\n",
    "            root = root.right\n",
    "        else:\n",
    "            ceil = root.data\n",
    "            root = root.left\n",
    "\n",
    "    return ceil\n"
   ]
  },
  {
   "cell_type": "markdown",
   "metadata": {},
   "source": [
    "### 701. Insert into a Binary Search Tree\n",
    "[Reference](https://leetcode.com/problems/insert-into-a-binary-search-tree/)"
   ]
  },
  {
   "cell_type": "code",
   "execution_count": null,
   "metadata": {},
   "outputs": [],
   "source": [
    "# Definition for a binary tree node.\n",
    "class TreeNode:\n",
    "    def __init__(self, val=0, left=None, right=None):\n",
    "        self.val = val\n",
    "        self.left = left\n",
    "        self.right = right\n",
    "\n",
    "class Solution:\n",
    "    def insertIntoBST(self, root: Optional[TreeNode], val: int) -> Optional[TreeNode]:\n",
    "        if root.val == None:\n",
    "            root.val = val\n",
    "        if val < root.val:\n",
    "            # traverse the left subtree\n",
    "            if root.left is None:\n",
    "                root.left = TreeNode(val)\n",
    "            else:\n",
    "                self.insertIntoBST(root.left, val)\n",
    "        else:\n",
    "            if root.right is None:\n",
    "                root.right = TreeNode(val)\n",
    "            else:\n",
    "                self.insertIntoBST(root.right, val)\n",
    "        return root"
   ]
  },
  {
   "cell_type": "markdown",
   "metadata": {},
   "source": [
    "### 450. Delete Node in a BST\n",
    "[Reference](https://leetcode.com/problems/delete-node-in-a-bst/description/)"
   ]
  },
  {
   "cell_type": "code",
   "execution_count": null,
   "metadata": {},
   "outputs": [],
   "source": [
    "# Definition for a binary tree node.\n",
    "class TreeNode:\n",
    "    def __init__(self, val=0, left=None, right=None):\n",
    "        self.val = val\n",
    "        self.left = left\n",
    "        self.right = right\n",
    "        \n",
    "class Solution:\n",
    "    # helper function\n",
    "    def minVal(self, root):\n",
    "        current = root\n",
    "        while (current.left is not None):\n",
    "            current = current.left\n",
    "        return current.val\n",
    "\n",
    "\n",
    "    def deleteNode(self, root: Optional[TreeNode], key: int) -> Optional[TreeNode]:\n",
    "        if root is None:\n",
    "            return None\n",
    "\n",
    "        # case 1 - deleting a leaf node\n",
    "        if key < root.val:\n",
    "            root.left = self.deleteNode(root.left,key)\n",
    "        elif key > root.val:\n",
    "            root.right = self.deleteNode(root.right, key)\n",
    "        \n",
    "        # case 2 - deleting a node with one child\n",
    "        else: \n",
    "            if root.left is None:\n",
    "                self.temp = root.right\n",
    "                root = None\n",
    "                return self.temp\n",
    "            if root.right is None:\n",
    "                self.temp = root.left\n",
    "                root = None\n",
    "                return self.temp\n",
    "\n",
    "            #case 3 - deleting a node with 2 children\n",
    "\n",
    "            #getting the minimum value\n",
    "            current = root.right\n",
    "            while (current.left is not None):\n",
    "                current = current.left\n",
    "            root.val = current.val\n",
    "\n",
    "            root.right = self.deleteNode(root.right, current.val)\n",
    "        return root\n",
    "\n",
    "        \n"
   ]
  },
  {
   "cell_type": "markdown",
   "metadata": {},
   "source": [
    "### 230. Kth Smallest Element\n",
    "[Reference](https://leetcode.com/problems/kth-smallest-element-in-a-bst/description/)"
   ]
  },
  {
   "cell_type": "code",
   "execution_count": null,
   "metadata": {},
   "outputs": [],
   "source": [
    "# Definition for a binary tree node.\n",
    "class TreeNode:\n",
    "    def __init__(self, val=0, left=None, right=None):\n",
    "        self.val = val\n",
    "        self.left = left\n",
    "        self.right = right\n",
    "class Solution:\n",
    "    def kthSmallest(self, root: Optional[TreeNode], k: int):\n",
    "        def tree_to_list(root) -> list:\n",
    "            if not root:\n",
    "                return []\n",
    "            return tree_to_list(root.left) + [root.val] + tree_to_list(root.right)\n",
    "        \n",
    "        tree_list = tree_to_list(root)\n",
    "        # print(tree_list)\n",
    "        # print(k)\n",
    "        return tree_list[k-1] # k-1 because our indexing starts from 1 and for a list it starts from 0\n",
    "        '''\n",
    "        If we were to find the k-largest element then we'd return tree_list[-k]\n",
    "        '''"
   ]
  },
  {
   "cell_type": "markdown",
   "metadata": {},
   "source": [
    "### 98. Validate Binary Search Tree\n",
    "\n",
    "[Reference](https://leetcode.com/problems/validate-binary-search-tree/description/)"
   ]
  },
  {
   "cell_type": "code",
   "execution_count": null,
   "metadata": {},
   "outputs": [],
   "source": [
    "# Definition for a binary tree node.\n",
    "class TreeNode:\n",
    "    def __init__(self, val=0, left=None, right=None):\n",
    "        self.val = val\n",
    "        self.left = left\n",
    "        self.right = right\n",
    "class Solution:\n",
    "    '''\n",
    "    # This was working fine for binary trees that didnt have any repeated elements\n",
    "\n",
    "    def inOrderTraversal(self,root):\n",
    "        if root is None:\n",
    "            return []\n",
    "        return self.inOrderTraversal(root.left) + [root.val] + self.inOrderTraversal(root.right)\n",
    "    def isValidBST(self, root: Optional[TreeNode]) -> bool:\n",
    "        # flag = True\n",
    "        if root is None:\n",
    "            return None\n",
    "        \n",
    "        tree_list = self.inOrderTraversal(root)\n",
    "        # print(tree_list)\n",
    "        # print(sorted(tree_list))\n",
    "        return (sorted(tree_list) == tree_list)\n",
    "        '''\n",
    "    def isValidBST(self, root: Optional[TreeNode]) -> bool:\n",
    "        if root is None:\n",
    "            return True\n",
    "\n",
    "        def valid(root, left, right):\n",
    "            if not root:\n",
    "                return True\n",
    "            if not(root.val > left and root.val < right ):\n",
    "                return False\n",
    "            return (valid(root.left, left, root.val) and\n",
    "            valid(root.right, root.val, right))\n",
    "        return valid(root, float('-inf'), float('inf'))\n",
    "        "
   ]
  },
  {
   "cell_type": "markdown",
   "metadata": {},
   "source": [
    "### 235. Lowest Common Ancestor of a Binary Search Tree\n",
    "[Reference](https://leetcode.com/problems/lowest-common-ancestor-of-a-binary-search-tree/)"
   ]
  },
  {
   "cell_type": "code",
   "execution_count": null,
   "metadata": {},
   "outputs": [],
   "source": [
    "# Definition for a binary tree node.\n",
    "class TreeNode:\n",
    "    def __init__(self, x):\n",
    "        self.val = x\n",
    "        self.left = None\n",
    "        self.right = None\n",
    "\n",
    "class Solution:\n",
    "    def lowestCommonAncestor(self, root: 'TreeNode', p: 'TreeNode', q: 'TreeNode') -> 'TreeNode':\n",
    "        curr = root\n",
    "        while curr:\n",
    "            if p.val > curr.val and q.val > curr.val:\n",
    "                #both in right subtree\n",
    "                curr = curr.right\n",
    "            elif p.val < curr.val and q.val < curr.val:\n",
    "                # both in left subtree\n",
    "                curr = curr.left\n",
    "            else:\n",
    "                # one in left subtree and one in right -> we return the value of that node\n",
    "                return curr"
   ]
  },
  {
   "cell_type": "markdown",
   "metadata": {},
   "source": [
    "### 105. Construct Binary Tree from Preorder and Inorder Traversal\n",
    "\n",
    "[Reference](https://leetcode.com/problems/construct-binary-tree-from-preorder-and-inorder-traversal/)"
   ]
  },
  {
   "cell_type": "code",
   "execution_count": null,
   "metadata": {},
   "outputs": [],
   "source": [
    "# Definition for a binary tree node.\n",
    "class TreeNode:\n",
    "    def __init__(self, val=0, left=None, right=None):\n",
    "        self.val = val\n",
    "        self.left = left\n",
    "        self.right = right\n",
    "class Solution:\n",
    "    def buildTree(self, preorder: List[int], inorder: List[int]) -> Optional[TreeNode]:\n",
    "        if not preorder or not inorder:\n",
    "            return None\n",
    "\n",
    "        root = TreeNode(preorder[0])\n",
    "        mid = inorder.index(preorder[0])\n",
    "        root.left = self.buildTree(preorder[1:mid+1], inorder[:mid])\n",
    "        root.right = self.buildTree(preorder[mid+1:], inorder[mid+1:])\n",
    "        return root\n"
   ]
  },
  {
   "cell_type": "markdown",
   "metadata": {},
   "source": [
    "### 1008. Construct Binary Search Tree from Preorder Traversal\n",
    "\n",
    "[Reference](https://leetcode.com/problems/construct-binary-search-tree-from-preorder-traversal/description/)"
   ]
  },
  {
   "cell_type": "code",
   "execution_count": null,
   "metadata": {},
   "outputs": [],
   "source": [
    "# Definition for a binary tree node.\n",
    "class TreeNode:\n",
    "    def __init__(self, val=0, left=None, right=None):\n",
    "        self.val = val\n",
    "        self.left = left\n",
    "        self.right = right\n",
    "class Solution:\n",
    "    def bstFromPreorder(self, preorder: List[int]) -> Optional[TreeNode]:\n",
    "        '''\n",
    "        node -> left subtree -> right subtree.\n",
    "        \n",
    "        '''\n",
    "        if len(preorder) == 0:\n",
    "            return None\n",
    "\n",
    "        root = TreeNode(preorder[0])\n",
    "        def insertNode(root, newVal):\n",
    "            if root.val > newVal:\n",
    "                if root.left is None:\n",
    "                    root.left = TreeNode(newVal)\n",
    "                    return \n",
    "                insertNode(root.left,newVal)\n",
    "            \n",
    "            if root.val < newVal:\n",
    "                if root.right is None:\n",
    "                    root.right = TreeNode(newVal)\n",
    "                    return\n",
    "                insertNode(root.right, newVal)\n",
    "\n",
    "        for val in preorder[1:]:\n",
    "            insertNode(root, val)\n",
    "        return root\n",
    "\n",
    "        \n",
    "        "
   ]
  },
  {
   "cell_type": "markdown",
   "metadata": {},
   "source": [
    "## Seclore Questions"
   ]
  },
  {
   "cell_type": "markdown",
   "metadata": {},
   "source": [
    "### Sum of all leaf nodes of binary tree\n",
    "[Reference](https://www.geeksforgeeks.org/sum-leaf-nodes-binary-tree/)\n",
    "\n",
    "Given a binary tree, find the sum of all the leaf nodes.\n",
    "Examples: \n",
    " \n",
    "Input : \n",
    "        1\n",
    "      /   \\\n",
    "     2     3\n",
    "    / \\   / \\\n",
    "   4   5 6   7\n",
    "          \\\n",
    "           8\n",
    "Output :\n",
    "Sum = 4 + 5 + 8 + 7 = 24\n",
    " \n",
    "\n",
    "The idea is to traverse the tree in any fashion and check if the node is the leaf node or not. If the node is the leaf node, add node data to sum variable.\n",
    "Following is the implementation of above approach. "
   ]
  },
  {
   "cell_type": "code",
   "execution_count": 9,
   "metadata": {},
   "outputs": [
    {
     "name": "stdout",
     "output_type": "stream",
     "text": [
      "27.8\n"
     ]
    }
   ],
   "source": [
    "class Node: \n",
    "     # Constructor\n",
    "    def __init__(self, data):            \n",
    "        self.data = data\n",
    "        self.left = None\n",
    "        self.right = None\n",
    "def leafSum(root):\n",
    "    if root is None:\n",
    "        return None\n",
    "    global total #cant initialise it to 0 because everytime recursion call occurs, it will set it back to 0\n",
    "    if (root.left == None and root.right == None):\n",
    "        total += root.data\n",
    "    \n",
    "    leafSum(root.left)\n",
    "    leafSum(root.right)\n",
    "    return total\n",
    "\n",
    "if __name__=='__main__':\n",
    "    root = Node(8)\n",
    "    root.left = Node(5)\n",
    "    root.left.left = Node(3)\n",
    "    root.left.right = Node(6)\n",
    "    root.right = Node(9)\n",
    "    root.right.right = Node(10)\n",
    "    root.right.left = Node(8.5)\n",
    "    root.right.left.right = Node(8.8)\n",
    "    total = 0\n",
    "# Variable to store the sum of leaf nodes\n",
    "    print(leafSum(root))\n",
    "    "
   ]
  },
  {
   "cell_type": "markdown",
   "metadata": {},
   "source": [
    "#### 404. Sum of left leaf Nodes\n",
    "[Reference](https://leetcode.com/problems/sum-of-left-leaves/description/)"
   ]
  },
  {
   "cell_type": "code",
   "execution_count": null,
   "metadata": {},
   "outputs": [],
   "source": [
    "# Definition for a binary tree node.\n",
    "class TreeNode:\n",
    "    def __init__(self, val=0, left=None, right=None):\n",
    "        self.val = val\n",
    "        self.left = left\n",
    "        self.right = right\n",
    "class Solution:\n",
    "\n",
    "    def sumOfLeftLeaves(self, root: Optional[TreeNode]) -> int:\n",
    "        self.total = 0\n",
    "        if root is None:\n",
    "            return None\n",
    "        \n",
    "        # Depth First Search Traversal\n",
    "        def dfs_traversal(root,is_left):\n",
    "            if not root:\n",
    "                return None\n",
    "            \n",
    "            dfs_traversal(root.left, True)\n",
    "            dfs_traversal(root.right, False)\n",
    "        \n",
    "            if root.left is None and root.right is None and is_left is True:\n",
    "                self.total += root.val\n",
    "        dfs_traversal(root, False)\n",
    "        return self.total"
   ]
  },
  {
   "cell_type": "markdown",
   "metadata": {},
   "source": [
    "### 1161. Maximum Level Sum of a Binary Tree\n",
    " - uses level order traversal<br>\n",
    "[Reference](https://leetcode.com/problems/maximum-level-sum-of-a-binary-tree/)<br>\n",
    "[Video Reference](https://www.youtube.com/watch?v=7CgPNyJZ0xM)<br>"
   ]
  },
  {
   "cell_type": "code",
   "execution_count": null,
   "metadata": {},
   "outputs": [],
   "source": [
    "# Definition for a binary tree node.\n",
    "class TreeNode:\n",
    "    def __init__(self, val=0, left=None, right=None):\n",
    "        self.val = val\n",
    "        self.left = left\n",
    "        self.right = right\n",
    "class Solution:\n",
    "    def maxLevelSum(self, root: Optional[TreeNode]) -> int:\n",
    "        if not root:\n",
    "            return 0\n",
    "        \n",
    "        #initialize a queue for level order traversal\n",
    "        q = [root]\n",
    "        max_level = 1\n",
    "        level = 1\n",
    "        max_sum = float('-inf')\n",
    "\n",
    "        while q:\n",
    "            level_sum = 0\n",
    "            next_level = []\n",
    "\n",
    "            for node in q:\n",
    "                level_sum += node.val\n",
    "                if node.left:\n",
    "                    next_level.append(node.left) \n",
    "                if node.right:\n",
    "                    next_level.append(node.right)\n",
    "                \n",
    "            if level_sum > max_sum:\n",
    "                max_sum = level_sum\n",
    "                max_level = level\n",
    "\n",
    "            q=next_level\n",
    "            level+=1\n",
    "\n",
    "        return max_level"
   ]
  },
  {
   "cell_type": "markdown",
   "metadata": {},
   "source": []
  }
 ],
 "metadata": {
  "kernelspec": {
   "display_name": "Python 3",
   "language": "python",
   "name": "python3"
  },
  "language_info": {
   "codemirror_mode": {
    "name": "ipython",
    "version": 3
   },
   "file_extension": ".py",
   "mimetype": "text/x-python",
   "name": "python",
   "nbconvert_exporter": "python",
   "pygments_lexer": "ipython3",
   "version": "3.9.5"
  },
  "orig_nbformat": 4
 },
 "nbformat": 4,
 "nbformat_minor": 2
}
