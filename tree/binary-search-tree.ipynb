{
 "cells": [
  {
   "cell_type": "markdown",
   "metadata": {},
   "source": [
    "# Binary Search Tree\n",
    "\n",
    "**Creating a Node**<br>\n",
    "Time Complexity = O(1)<br>\n",
    "Space Complexity = O(1)\n",
    "\n",
    "**Inserting a Node**<br>\n",
    "Time Complexity = O(log N)<br>\n",
    "Space Complexity = O(log N)"
   ]
  },
  {
   "cell_type": "code",
   "execution_count": 70,
   "metadata": {},
   "outputs": [
    {
     "data": {
      "text/plain": [
       "'\\nTotal time complexity of insert operation = O(log N)\\n'"
      ]
     },
     "execution_count": 70,
     "metadata": {},
     "output_type": "execute_result"
    }
   ],
   "source": [
    "class BSTNode:\n",
    "    def __init__(self,data):\n",
    "        self.data = data\n",
    "        self.leftChild = None\n",
    "        self.rightChild = None\n",
    "\n",
    "def insertNode(rootNode, nodeValue):\n",
    "    if rootNode.data == None:\n",
    "        rootNode.data = nodeValue\n",
    "    elif nodeValue <= rootNode.data:\n",
    "        # traversing left subtree\n",
    "        if rootNode.leftChild is None:\n",
    "            rootNode.leftChild = BSTNode(nodeValue)\n",
    "        else:\n",
    "            insertNode(rootNode.leftChild, nodeValue)\n",
    "    else:\n",
    "        # traversing right subtree\n",
    "        if rootNode.rightChild is None:\n",
    "            rootNode.rightChild = BSTNode(nodeValue)\n",
    "        else:\n",
    "            insertNode(rootNode.rightChild, nodeValue)\n",
    "    return \"The node has been successfully inserted\"\n",
    "'''\n",
    "Total time complexity of insert operation = O(log N)\n",
    "'''"
   ]
  },
  {
   "cell_type": "code",
   "execution_count": 71,
   "metadata": {},
   "outputs": [
    {
     "data": {
      "text/plain": [
       "'The node has been successfully inserted'"
      ]
     },
     "execution_count": 71,
     "metadata": {},
     "output_type": "execute_result"
    }
   ],
   "source": [
    "\n",
    "newBST = BSTNode(None)\n",
    "insertNode(newBST, 70)\n",
    "insertNode(newBST,50)\n",
    "insertNode(newBST,90)\n",
    "insertNode(newBST, 30)\n",
    "insertNode(newBST,60)\n",
    "insertNode(newBST,80)\n",
    "insertNode(newBST,100)\n",
    "insertNode(newBST,20)\n",
    "insertNode(newBST,40)"
   ]
  },
  {
   "cell_type": "markdown",
   "metadata": {},
   "source": [
    "## Traversal in a Binary Search Tree\n",
    "\n",
    "1. Depth First Search \n",
    "    - PreOrder Traversal\n",
    "    - PostOrder Traversal\n",
    "    - InOrder Traveral\n",
    "\n",
    "2. Breadth First Search\n",
    "    - Level Order Traversal\n",
    "\n",
    "### Pre-Order Traversal\n",
    "\n",
    "Time Complexity = O(n)\n",
    "\n",
    "Space Complexity = O(n)\n",
    "\n",
    "Whenever a function is called recursively it inserts elements in a stack to remember it's progress. ( **We're using stack because this is a DFS algorithm** )\n",
    "\n",
    "### In-Order Traversal\n",
    "\n",
    "Time Complexity = O(n)\n",
    "\n",
    "Space Complexity = O(n)\n",
    "\n",
    "### Post-Order Traversal\n",
    "\n",
    "Time Complexity = O(n)\n",
    "\n",
    "Space Complexity = O(n)"
   ]
  },
  {
   "cell_type": "code",
   "execution_count": 72,
   "metadata": {},
   "outputs": [
    {
     "name": "stdout",
     "output_type": "stream",
     "text": [
      "preOrderTraversal\n",
      "70\n",
      "50\n",
      "30\n",
      "20\n",
      "40\n",
      "60\n",
      "90\n",
      "80\n",
      "100\n",
      "inOrderTraversal\n",
      "20\n",
      "30\n",
      "40\n",
      "50\n",
      "60\n",
      "70\n",
      "80\n",
      "90\n",
      "100\n",
      "postOrderTraversal\n",
      "20\n",
      "40\n",
      "30\n",
      "60\n",
      "50\n",
      "80\n",
      "100\n",
      "90\n",
      "70\n"
     ]
    }
   ],
   "source": [
    "def preOrderTraversal(rootNode):\n",
    "    if not rootNode:\n",
    "        return\n",
    "    print(rootNode.data)\n",
    "    preOrderTraversal(rootNode.leftChild)\n",
    "    preOrderTraversal(rootNode.rightChild)\n",
    "\n",
    "def inOrderTraversal(rootNode):\n",
    "    if not rootNode:\n",
    "        return\n",
    "    inOrderTraversal(rootNode.leftChild)\n",
    "    print(rootNode.data)\n",
    "    inOrderTraversal(rootNode.rightChild)\n",
    "\n",
    "def postOrderTraversal(rootNode):\n",
    "    if not rootNode:\n",
    "        return\n",
    "    postOrderTraversal(rootNode.leftChild)\n",
    "    postOrderTraversal(rootNode.rightChild)\n",
    "    print(rootNode.data)\n",
    "\n",
    "\n",
    "print('preOrderTraversal')\n",
    "preOrderTraversal(newBST)\n",
    "print('inOrderTraversal')\n",
    "inOrderTraversal(newBST)\n",
    "print('postOrderTraversal')\n",
    "postOrderTraversal(newBST)"
   ]
  },
  {
   "cell_type": "markdown",
   "metadata": {},
   "source": [
    "### Level Order Traversal\n",
    "Time Complexity = O(N)<br>\n",
    "Space Complexity = O(N)"
   ]
  },
  {
   "cell_type": "code",
   "execution_count": 73,
   "metadata": {},
   "outputs": [
    {
     "name": "stdout",
     "output_type": "stream",
     "text": [
      "70\n",
      "50\n",
      "90\n",
      "30\n",
      "60\n",
      "80\n",
      "100\n",
      "20\n",
      "40\n"
     ]
    }
   ],
   "source": [
    "# level order traversal\n",
    "'''\n",
    "Reference from ACT Linkedlist colab notebook\n",
    "'''\n",
    "class Node:\n",
    "    def __init__(self,value):\n",
    "        self.value = value\n",
    "        self.next = None\n",
    "    \n",
    "    def __str__(self):\n",
    "        return str(self.value)\n",
    "    \n",
    "class DynamicQueue:\n",
    "    def __init__(self):\n",
    "        self.head = None\n",
    "        self.tail = None\n",
    "    \n",
    "    def __iter__(self):\n",
    "        currNode = self.head\n",
    "        while currNode:\n",
    "            yield currNode \n",
    "            currNode = currNode.next\n",
    "    \n",
    "    def __str__(self):\n",
    "        values = []\n",
    "        if self.head == None:\n",
    "            print('empty queue')\n",
    "        else :\n",
    "            iterator = self.head\n",
    "            while iterator!= None:\n",
    "                values.append(str(iterator.value))\n",
    "                iterator = iterator.next\n",
    "        return ' '.join(values)\n",
    "    \n",
    "    def enQueue(self, value):\n",
    "        newNode = Node(value)\n",
    "        if self.head == None:\n",
    "            self.head = newNode\n",
    "            self.tail = newNode\n",
    "        else:\n",
    "            self.tail.next = newNode\n",
    "            self.tail = newNode\n",
    "    \n",
    "    def deQueue(self):\n",
    "        if self.head == None:\n",
    "            print('empty queue')\n",
    "        else:\n",
    "            dequeued_element = self.head\n",
    "            if (self.head == self.tail):\n",
    "                self.head = None\n",
    "                self.tail = None\n",
    "\n",
    "            else:   \n",
    "                self.head = self.head.next\n",
    "        return dequeued_element\n",
    "    \n",
    "    def isEmpty(self):\n",
    "        if self.head == None:\n",
    "            return True\n",
    "        else: \n",
    "            return False\n",
    "    \n",
    "    def peek(self):\n",
    "        '''\n",
    "        returns the value of head\n",
    "        '''\n",
    "        if self.isEmpty():\n",
    "            print('The queue is empty')\n",
    "        \n",
    "        else:\n",
    "            return self.head\n",
    "\n",
    "# custQueue = DynamicQueue()\n",
    "# custQueue.enQueue(5)\n",
    "# print(custQueue)\n",
    "\n",
    "def levelOrderTraversal2(rootNode):\n",
    "    custQueue = DynamicQueue()\n",
    "    custQueue.enQueue(rootNode)\n",
    "    while not(custQueue.isEmpty()):\n",
    "        dequeued_element = custQueue.deQueue()\n",
    "        print(dequeued_element.value.data)\n",
    "        if (dequeued_element.value.leftChild is not None):\n",
    "            custQueue.enQueue(dequeued_element.value.leftChild)\n",
    "        if (dequeued_element.value.rightChild is not None):\n",
    "            custQueue.enQueue(dequeued_element.value.rightChild)\n",
    "\n",
    "levelOrderTraversal2(newBST)\n",
    "\n"
   ]
  },
  {
   "cell_type": "code",
   "execution_count": 74,
   "metadata": {},
   "outputs": [
    {
     "name": "stdout",
     "output_type": "stream",
     "text": [
      "70\n",
      "50\n",
      "90\n",
      "30\n",
      "60\n",
      "80\n",
      "100\n",
      "20\n",
      "40\n"
     ]
    }
   ],
   "source": [
    "levelOrderTraversal2(newBST)"
   ]
  },
  {
   "cell_type": "markdown",
   "metadata": {},
   "source": [
    "## Searching in Binary Search Tree\n",
    "Time Complexity = O(log N)<br>\n",
    "Space Complexity = O(log N)"
   ]
  },
  {
   "cell_type": "code",
   "execution_count": 75,
   "metadata": {},
   "outputs": [
    {
     "name": "stdout",
     "output_type": "stream",
     "text": [
      "element found\n"
     ]
    }
   ],
   "source": [
    "def search(rootNode,to_search):\n",
    "    if not rootNode:\n",
    "        return \n",
    "    else:\n",
    "        if rootNode.data == to_search:\n",
    "            # print(rootNode.data)\n",
    "            print('element found')\n",
    "        elif to_search < rootNode.data:\n",
    "            # traverse left subtree\n",
    "            if rootNode.leftChild is not None:\n",
    "                search(rootNode.leftChild, to_search)\n",
    "        else:\n",
    "            # traverse right subtree\n",
    "            if rootNode.rightChild is not None:\n",
    "                search(rootNode.rightChild, to_search)\n",
    "                \n",
    "search(newBST, 100)"
   ]
  },
  {
   "cell_type": "markdown",
   "metadata": {},
   "source": [
    "## Delete a Node\n",
    "Time Complexity = O(log N)<br>\n",
    "Space Complexity = O(log N)\n",
    "\n",
    "3 cases - \n",
    "1. Deleting a leaf node\n",
    "2. Deleting a node with one child\n",
    "3. Deleting a node with 2 children"
   ]
  },
  {
   "cell_type": "code",
   "execution_count": 76,
   "metadata": {},
   "outputs": [],
   "source": [
    "# a simpler way to delete a node in bst-leetcode.ipynb\n",
    "def minValueNode(bstNode):\n",
    "    current = bstNode\n",
    "    while (current.leftChild is not None):\n",
    "        current = current.leftChild\n",
    "    return current\n",
    "\n",
    "def deleteNode(rootNode, to_delete):\n",
    "    if rootNode is None:\n",
    "        return rootNode\n",
    "    \n",
    "    # basic logic of iterating through left or right sub tree\n",
    "    if to_delete < rootNode.data:\n",
    "        rootNode.leftChild = deleteNode(rootNode.leftChild, to_delete)\n",
    "        # print(rootNode.leftChild)\n",
    "    elif to_delete > rootNode.data:\n",
    "        rootNode.rightChild = deleteNode(rootNode.rightChild, to_delete)\n",
    "        # print(rootNode.rightChild)\n",
    "\n",
    "    # deleting a node with just one child\n",
    "    else:\n",
    "        if rootNode.leftChild is None:\n",
    "            temp = rootNode.rightChild\n",
    "            rootNode = None\n",
    "            return temp\n",
    "        if rootNode.rightChild is None:\n",
    "            temp = rootNode.leftChild\n",
    "            rootNode = None\n",
    "            return temp\n",
    "    \n",
    "    # deleting a node which has two children\n",
    "    # step 1 is to find the successor of the node we're deleting. i.e. find the smallest element in the right subtree\n",
    "        temp = minValueNode(rootNode.rightChild)\n",
    "        rootNode.data = temp # assigning the successor value to the node\n",
    "        rootNode.rightChild = deleteNode(rootNode.rightChild, temp.data) # deleting the successor node\n",
    "    return rootNode"
   ]
  },
  {
   "cell_type": "code",
   "execution_count": 78,
   "metadata": {},
   "outputs": [
    {
     "name": "stdout",
     "output_type": "stream",
     "text": [
      "70\n",
      "50\n",
      "90\n",
      "30\n",
      "60\n",
      "80\n",
      "100\n"
     ]
    }
   ],
   "source": [
    "deleteNode(newBST,40)\n",
    "levelOrderTraversal2(newBST)"
   ]
  },
  {
   "cell_type": "markdown",
   "metadata": {},
   "source": [
    "## Delete entire BST\n"
   ]
  },
  {
   "cell_type": "code",
   "execution_count": null,
   "metadata": {},
   "outputs": [],
   "source": [
    "def deleteBST(rootNode):\n",
    "    rootNode.data = None\n",
    "    rootNode.leftChild = None\n",
    "    rootNode.rightChild = None\n",
    "    return 'BST has been successfully deleted       '"
   ]
  }
 ],
 "metadata": {
  "kernelspec": {
   "display_name": "Python 3",
   "language": "python",
   "name": "python3"
  },
  "language_info": {
   "codemirror_mode": {
    "name": "ipython",
    "version": 3
   },
   "file_extension": ".py",
   "mimetype": "text/x-python",
   "name": "python",
   "nbconvert_exporter": "python",
   "pygments_lexer": "ipython3",
   "version": "3.9.5"
  },
  "orig_nbformat": 4
 },
 "nbformat": 4,
 "nbformat_minor": 2
}
